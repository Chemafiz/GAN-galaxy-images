{
 "cells": [
  {
   "cell_type": "code",
   "execution_count": 1,
   "id": "97fc48bf-2b55-4c9d-b1c0-4c8e61b7ddc9",
   "metadata": {},
   "outputs": [
    {
     "name": "stderr",
     "output_type": "stream",
     "text": [
      "F:\\MiniConda\\envs\\tf\\lib\\site-packages\\h5py\\__init__.py:36: UserWarning: h5py is running against HDF5 1.12.2 when it was built against 1.12.1, this may cause problems\n",
      "  _warn((\"h5py is running against HDF5 {0} when it was built against {1}, \"\n"
     ]
    }
   ],
   "source": [
    "import numpy as np\n",
    "import pandas as pd\n",
    "import matplotlib.pyplot as plt\n",
    "import h5py\n",
    "import random\n",
    "import cv2\n",
    "\n",
    "from keras.models import Sequential, Model,load_model\n",
    "from keras.layers import Dense, Flatten, Reshape, Conv2D, MaxPool2D, Conv2DTranspose, BatchNormalization, Dropout, LeakyReLU\n",
    "from keras.optimizers import Adam, SGD\n",
    "from keras.losses import MeanSquaredError\n",
    "from keras import activations\n",
    "\n",
    "from sklearn.preprocessing import MinMaxScaler\n",
    "\n",
    "\n",
    "\n",
    "\n",
    "from tensorflow.keras import utils\n",
    "import tensorflow as tf\n",
    "tf.config.run_functions_eagerly(True)\n",
    "tf.data.experimental.enable_debug_mode()\n"
   ]
  },
  {
   "cell_type": "code",
   "execution_count": null,
   "id": "79955288-9bad-4821-bfb1-e0a3d9e57639",
   "metadata": {},
   "outputs": [],
   "source": [
    "# with h5py.File('Galaxy10_DECals.h5', 'r') as h5_file:\n",
    "#     # Odczytaj dane ze zbiorów danych\n",
    "#     ans_data = h5_file['ans'][:]\n",
    "#     dec_data = h5_file['dec'][:]\n",
    "#     images_data = h5_file['images'][:]\n",
    "#     pxscale_data = h5_file['pxscale'][:]\n",
    "#     ra_data = h5_file['ra'][:]\n",
    "#     redshift_data = h5_file['redshift'][:]\n",
    "\n",
    "# # Tworzenie DataFrame z danymi\n",
    "# data_dict = {\n",
    "#     'ans': ans_data,\n",
    "#     'dec': dec_data,\n",
    "#     'images': images_data,\n",
    "#     'pxscale': pxscale_data,\n",
    "#     'ra': ra_data,\n",
    "#     'redshift': redshift_data\n",
    "# }\n",
    "\n",
    "# df = pd.DataFrame(data_dict)"
   ]
  },
  {
   "cell_type": "code",
   "execution_count": 3,
   "id": "d71983a4-4561-42b2-ac44-1d9c5932a388",
   "metadata": {},
   "outputs": [
    {
     "name": "stdout",
     "output_type": "stream",
     "text": [
      "CPU times: total: 51.7 s\n",
      "Wall time: 1min 8s\n"
     ]
    }
   ],
   "source": [
    "%%time\n",
    "# # To get the images and labels from file\n",
    "with h5py.File('../Galaxy10_DECals.h5', 'r') as F:\n",
    "    images = np.array(F['images'])\n",
    "    labels = np.array(F['ans'])\n",
    "\n",
    "# To convert the labels to categorical 10 classes\n",
    "labels = utils.to_categorical(labels, 10)\n",
    "\n",
    "# To convert to desirable type\n",
    "labels = labels.astype(np.float32)\n",
    "images = images.astype(np.float32)\n",
    "labels_names = [\"Disturbed Galaxies\", \"Merging Galaxies\", \"Round Smooth Galaxies\", \"In-between Round Smooth Galaxies\", \"Cigar Shaped Smooth Galaxies\",\n",
    "            \"Barred Spiral Galaxies\", \"Unbarred Tight Spiral Galaxies\", \"Unbarred Loose Spiral Galaxies\", \"Edge-on Galaxies without Bulge\", \"Edge-on Galaxies with Bulge\"]"
   ]
  },
  {
   "cell_type": "code",
   "execution_count": 4,
   "id": "87ba83de-7377-4fe5-9332-a04ae5aedb6a",
   "metadata": {},
   "outputs": [
    {
     "name": "stdout",
     "output_type": "stream",
     "text": [
      "Disturbed Galaxies: 1873\n",
      "Merging Galaxies: 1423\n",
      "Round Smooth Galaxies: 2628\n",
      "In-between Round Smooth Galaxies: 1829\n",
      "Cigar Shaped Smooth Galaxies: 2043\n",
      "Barred Spiral Galaxies: 334\n",
      "Unbarred Tight Spiral Galaxies: 2027\n",
      "Unbarred Loose Spiral Galaxies: 2645\n",
      "Edge-on Galaxies without Bulge: 1853\n",
      "Edge-on Galaxies with Bulge: 1081\n"
     ]
    }
   ],
   "source": [
    "for name, count in zip(labels_names, np.unique(labels[:,:], axis=0, return_counts=True)[1]):\n",
    "    print(f\"{name}: {count}\")"
   ]
  },
  {
   "cell_type": "code",
   "execution_count": 23,
   "id": "c192cee3-cfff-43a3-a5f2-a4939e4e82b7",
   "metadata": {},
   "outputs": [
    {
     "name": "stdout",
     "output_type": "stream",
     "text": [
      "[0. 1. 0. 0. 0. 0. 0. 0. 0. 0.]\n"
     ]
    },
    {
     "data": {
      "image/png": "[encoded data removed]",
      "text/plain": [
       "<Figure size 640x480 with 1 Axes>"
      ]
     },
     "metadata": {},
     "output_type": "display_data"
    }
   ],
   "source": [
    "def show_image(index):\n",
    "    plt.imshow(images[index].astype(np.int16), cmap=\"gray\")\n",
    "    plt.title(labels_names[np.where(labels[index] == 1)[0][0]])\n",
    "    print(labels[index])\n",
    "    plt.show()\n",
    "\n",
    "\n",
    "show_image(1103)"
   ]
  },
  {
   "cell_type": "code",
   "execution_count": 14,
   "id": "0c093206-5713-4647-bf6b-18862e58372d",
   "metadata": {},
   "outputs": [],
   "source": [
    "%%time\n",
    "images = tf.image.resize(images, (64, 64))\n",
    "images = tf.image.rgb_to_grayscale(images)\n",
    "images = images.numpy()"
   ]
  },
  {
   "cell_type": "code",
   "execution_count": 24,
   "id": "dfd40e6f-6186-410b-9596-2df796410470",
   "metadata": {},
   "outputs": [],
   "source": [
    "scaler = MinMaxScaler()\n",
    "images = scaler.fit_transform(images.reshape(-1, 64*64))\n",
    "images = images * 2 - 1\n",
    "images = images.reshape(-1, 64, 64)"
   ]
  },
  {
   "cell_type": "markdown",
   "id": "aa1fafa7-e30e-40e0-b011-107d16865fd8",
   "metadata": {},
   "source": [
    "# Model"
   ]
  },
  {
   "cell_type": "code",
   "execution_count": 91,
   "id": "78381a83-f8ab-49bc-b626-1f5114e49377",
   "metadata": {},
   "outputs": [],
   "source": [
    "tf.random.set_seed(42)\n",
    "np.random.seed(42)\n",
    "\n",
    "codings_size = 100\n",
    "\n",
    "generator = Sequential([\n",
    "    Conv2DTranspose(filters=512, kernel_size=4, strides=1, padding=\"valid\", activation=LeakyReLU(0.2), input_shape=[1, 1, codings_size]),\n",
    "    BatchNormalization(),\n",
    "    Conv2DTranspose(filters=512, kernel_size=4, strides=2, padding=\"same\", activation=LeakyReLU(0.2)),\n",
    "    BatchNormalization(),\n",
    "    Conv2DTranspose(filters=256, kernel_size=4, strides=2, padding=\"same\", activation=LeakyReLU(0.2)),\n",
    "    BatchNormalization(),\n",
    "    Conv2DTranspose(filters=128, kernel_size=4, strides=2, padding=\"same\", activation=LeakyReLU(0.2)),\n",
    "    BatchNormalization(),\n",
    "    Conv2DTranspose(filters=1, kernel_size=4, strides=2, padding=\"same\", activation=\"tanh\"),\n",
    "])\n",
    "\n",
    "# discriminator = Sequential([\n",
    "#     Conv2D(filters=512, kernel_size=(4,4), strides=1, padding=\"SAME\", activation=LeakyReLU(0.2), input_shape=[28, 28, 1]),\n",
    "#     Dropout(0.4),\n",
    "#     Conv2D(128, kernel_size=5, strides=2, padding=\"SAME\",activation=LeakyReLU(0.2)),\n",
    "#     Dropout(0.4),\n",
    "#     Flatten(),\n",
    "#     Dense(1, activation=\"sigmoid\")\n",
    "# ])\n",
    "\n",
    "# with tf.device('/GPU:0'):\n",
    "#     gan = Sequential([generator, discriminator])"
   ]
  },
  {
   "cell_type": "code",
   "execution_count": 92,
   "id": "41b589de-5ea4-481c-833f-581c5d8010b4",
   "metadata": {},
   "outputs": [
    {
     "name": "stdout",
     "output_type": "stream",
     "text": [
      "Model: \"sequential_35\"\n",
      "_________________________________________________________________\n",
      " Layer (type)                Output Shape              Param #   \n",
      "=================================================================\n",
      " conv2d_transpose_176 (Conv  (None, 4, 4, 512)         819712    \n",
      " 2DTranspose)                                                    \n",
      "                                                                 \n",
      " batch_normalization_140 (B  (None, 4, 4, 512)         2048      \n",
      " atchNormalization)                                              \n",
      "                                                                 \n",
      " conv2d_transpose_177 (Conv  (None, 8, 8, 512)         4194816   \n",
      " 2DTranspose)                                                    \n",
      "                                                                 \n",
      " batch_normalization_141 (B  (None, 8, 8, 512)         2048      \n",
      " atchNormalization)                                              \n",
      "                                                                 \n",
      " conv2d_transpose_178 (Conv  (None, 16, 16, 256)       2097408   \n",
      " 2DTranspose)                                                    \n",
      "                                                                 \n",
      " batch_normalization_142 (B  (None, 16, 16, 256)       1024      \n",
      " atchNormalization)                                              \n",
      "                                                                 \n",
      " conv2d_transpose_179 (Conv  (None, 32, 32, 128)       524416    \n",
      " 2DTranspose)                                                    \n",
      "                                                                 \n",
      " batch_normalization_143 (B  (None, 32, 32, 128)       512       \n",
      " atchNormalization)                                              \n",
      "                                                                 \n",
      " conv2d_transpose_180 (Conv  (None, 64, 64, 1)         2049      \n",
      " 2DTranspose)                                                    \n",
      "                                                                 \n",
      "=================================================================\n",
      "Total params: 7644033 (29.16 MB)\n",
      "Trainable params: 7641217 (29.15 MB)\n",
      "Non-trainable params: 2816 (11.00 KB)\n",
      "_________________________________________________________________\n"
     ]
    }
   ],
   "source": [
    "generator.summary()"
   ]
  },
  {
   "cell_type": "code",
   "execution_count": 7,
   "id": "efa3e01c-a173-4cc7-ba23-0f294ecaf2f2",
   "metadata": {},
   "outputs": [],
   "source": []
  },
  {
   "cell_type": "code",
   "execution_count": null,
   "id": "de5eeed0-ab02-4477-9d88-b8dac2045e1a",
   "metadata": {},
   "outputs": [],
   "source": []
  },
  {
   "cell_type": "code",
   "execution_count": 6,
   "id": "773f937c-b0dd-4441-b9a2-598da75d9425",
   "metadata": {},
   "outputs": [
    {
     "name": "stdout",
     "output_type": "stream",
     "text": [
      "                        images: 13.0 GiB\n",
      "                        labels: 692.9 KiB\n",
      "                    Sequential:  1.0 KiB\n",
      "                         Model:  1.0 KiB\n",
      "                         Dense:  1.0 KiB\n",
      "                       Flatten:  1.0 KiB\n",
      "                       Reshape:  1.0 KiB\n",
      "                        Conv2D:  1.0 KiB\n",
      "                     MaxPool2D:  1.0 KiB\n",
      "               Conv2DTranspose:  1.0 KiB\n"
     ]
    }
   ],
   "source": [
    "import sys\n",
    "def sizeof_fmt(num, suffix='B'):\n",
    "    for unit in ['','Ki','Mi','Gi','Ti','Pi','Ei','Zi']:\n",
    "        if abs(num) < 1024.0:\n",
    "            return \"%3.1f %s%s\" % (num, unit, suffix)\n",
    "        num /= 1024.0\n",
    "    return \"%.1f %s%s\" % (num, 'Yi', suffix)\n",
    "\n",
    "for name, size in sorted(((name, sys.getsizeof(value)) for name, value in list(\n",
    "                          locals().items())), key= lambda x: -x[1])[:10]:\n",
    "    print(\"{:>30}: {:>8}\".format(name, sizeof_fmt(size)))"
   ]
  },
  {
   "cell_type": "code",
   "execution_count": 138,
   "id": "10d096e8-6af0-4344-8203-14f1eb6e74d6",
   "metadata": {},
   "outputs": [
    {
     "name": "stdout",
     "output_type": "stream",
     "text": [
      "Disturbed Galaxies: 1873\n",
      "Merging Galaxies: 1423\n",
      "Round Smooth Galaxies: 2628\n",
      "In-between Round Smooth Galaxies: 1829\n",
      "Cigar Shaped Smooth Galaxies: 2043\n",
      "Barred Spiral Galaxies: 334\n",
      "Unbarred Tight Spiral Galaxies: 2027\n",
      "Unbarred Loose Spiral Galaxies: 2645\n",
      "Edge-on Galaxies without Bulge: 1853\n",
      "Edge-on Galaxies with Bulge: 1081\n"
     ]
    }
   ],
   "source": []
  },
  {
   "cell_type": "code",
   "execution_count": 126,
   "id": "835cc07e-ce12-4423-ac29-648dde412e8d",
   "metadata": {},
   "outputs": [
    {
     "data": {
      "text/plain": [
       "array([[1., 0., 0., ..., 0., 0., 0.],\n",
       "       [1., 0., 0., ..., 0., 0., 0.],\n",
       "       [1., 0., 0., ..., 0., 0., 0.],\n",
       "       ...,\n",
       "       [0., 0., 0., ..., 0., 0., 1.],\n",
       "       [0., 0., 0., ..., 0., 0., 1.],\n",
       "       [0., 0., 0., ..., 0., 0., 1.]], dtype=float32)"
      ]
     },
     "execution_count": 126,
     "metadata": {},
     "output_type": "execute_result"
    }
   ],
   "source": [
    "labels"
   ]
  },
  {
   "cell_type": "code",
   "execution_count": null,
   "id": "433d1590-e110-4009-95e6-8cdddccef848",
   "metadata": {},
   "outputs": [],
   "source": []
  }
 ],
 "metadata": {
  "kernelspec": {
   "display_name": "Python 3 (ipykernel)",
   "language": "python",
   "name": "python3"
  },
  "language_info": {
   "codemirror_mode": {
    "name": "ipython",
    "version": 3
   },
   "file_extension": ".py",
   "mimetype": "text/x-python",
   "name": "python",
   "nbconvert_exporter": "python",
   "pygments_lexer": "ipython3",
   "version": "3.9.17"
  }
 },
 "nbformat": 4,
 "nbformat_minor": 5
}
