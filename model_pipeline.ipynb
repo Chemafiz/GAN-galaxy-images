{
 "cells": [
  {
   "cell_type": "code",
   "execution_count": 1,
   "id": "97fc48bf-2b55-4c9d-b1c0-4c8e61b7ddc9",
   "metadata": {},
   "outputs": [],
   "source": [
    "import numpy as np\n",
    "import matplotlib.pyplot as plt\n",
    "import h5py\n",
    "import random\n",
    "import os\n",
    "import time\n",
    "\n",
    "from keras.models import Sequential, Model,load_model\n",
    "from keras.layers import Dense, Flatten, Reshape, Conv2D, MaxPool2D, Conv2DTranspose, BatchNormalization, Dropout, LeakyReLU\n",
    "from keras.optimizers import Adam, SGD\n",
    "from keras.losses import MeanSquaredError\n",
    "from keras import activations\n",
    "\n",
    "from sklearn.preprocessing import MinMaxScaler\n",
    "from astroNN.datasets import load_galaxy10\n",
    "\n",
    "from tensorflow.keras import utils\n",
    "import tensorflow as tf\n",
    "tf.config.run_functions_eagerly(True)\n",
    "tf.data.experimental.enable_debug_mode()\n"
   ]
  },
  {
   "cell_type": "code",
   "execution_count": 2,
   "id": "99be6c89-7397-499f-83c3-bc81a7786a9b",
   "metadata": {},
   "outputs": [
    {
     "name": "stdout",
     "output_type": "stream",
     "text": [
      "[name: \"/device:CPU:0\"\n",
      "device_type: \"CPU\"\n",
      "memory_limit: 268435456\n",
      "locality {\n",
      "}\n",
      "incarnation: 1922659417438655971\n",
      "xla_global_id: -1\n",
      ", name: \"/device:GPU:0\"\n",
      "device_type: \"GPU\"\n",
      "memory_limit: 4772069376\n",
      "locality {\n",
      "  bus_id: 1\n",
      "  links {\n",
      "  }\n",
      "}\n",
      "incarnation: 8560587639904246472\n",
      "physical_device_desc: \"device: 0, name: NVIDIA GeForce GTX 1060 6GB, pci bus id: 0000:01:00.0, compute capability: 6.1\"\n",
      "xla_global_id: 416903419\n",
      "]\n"
     ]
    }
   ],
   "source": [
    "from tensorflow.python.client import device_lib\n",
    "print(device_lib.list_local_devices())"
   ]
  },
  {
   "cell_type": "code",
   "execution_count": 3,
   "id": "adf8810f",
   "metadata": {},
   "outputs": [
    {
     "name": "stdout",
     "output_type": "stream",
     "text": [
      "2.12.1\n"
     ]
    }
   ],
   "source": [
    "import tensorflow as tf\n",
    "print(tf.__version__)"
   ]
  },
  {
   "cell_type": "code",
   "execution_count": null,
   "id": "79955288-9bad-4821-bfb1-e0a3d9e57639",
   "metadata": {},
   "outputs": [],
   "source": [
    "# with h5py.File('Galaxy10_DECals.h5', 'r') as h5_file:\n",
    "#     # Odczytaj dane ze zbiorów danych\n",
    "#     ans_data = h5_file['ans'][:]\n",
    "#     dec_data = h5_file['dec'][:]\n",
    "#     images_data = h5_file['images'][:]\n",
    "#     pxscale_data = h5_file['pxscale'][:]\n",
    "#     ra_data = h5_file['ra'][:]\n",
    "#     redshift_data = h5_file['redshift'][:]\n",
    "\n",
    "# # Tworzenie DataFrame z danymi\n",
    "# data_dict = {\n",
    "#     'ans': ans_data,\n",
    "#     'dec': dec_data,\n",
    "#     'images': images_data,\n",
    "#     'pxscale': pxscale_data,\n",
    "#     'ra': ra_data,\n",
    "#     'redshift': redshift_data\n",
    "# }\n",
    "\n",
    "# df = pd.DataFrame(data_dict)"
   ]
  },
  {
   "cell_type": "code",
   "execution_count": 2,
   "id": "d71983a4-4561-42b2-ac44-1d9c5932a388",
   "metadata": {},
   "outputs": [
    {
     "name": "stdout",
     "output_type": "stream",
     "text": [
      "CPU times: user 49.3 s, sys: 42.7 s, total: 1min 32s\n",
      "Wall time: 1min 57s\n"
     ]
    }
   ],
   "source": [
    "%%time\n",
    "# # To get the images and labels from file\n",
    "with h5py.File('../Galaxy10_DECals.h5', 'r') as F:\n",
    "    images = np.array(F['images'])\n",
    "    labels = np.array(F['ans'])\n",
    "\n",
    "# To convert the labels to categorical 10 classes\n",
    "labels = utils.to_categorical(labels, 10)\n",
    "\n",
    "# To convert to desirable type\n",
    "labels = labels.astype(np.uint8)\n",
    "images = images.astype(np.float32)\n",
    "labels_names = [\"Disturbed Galaxies\", \"Merging Galaxies\", \"Round Smooth Galaxies\", \"In-between Round Smooth Galaxies\", \"Cigar Shaped Smooth Galaxies\",\n",
    "            \"Barred Spiral Galaxies\", \"Unbarred Tight Spiral Galaxies\", \"Unbarred Loose Spiral Galaxies\", \"Edge-on Galaxies without Bulge\", \"Edge-on Galaxies with Bulge\"]"
   ]
  },
  {
   "cell_type": "code",
   "execution_count": 3,
   "id": "447ae9bc-295f-40d1-ab36-0d9e4e0c481b",
   "metadata": {},
   "outputs": [],
   "source": [
    "# images = list(np.array_split(images, 1024))\n",
    "\n",
    "def genenerator():\n",
    "    for i in images:\n",
    "        yield i"
   ]
  },
  {
   "cell_type": "code",
   "execution_count": 4,
   "id": "df3b8acc-eb03-4d58-b39b-c3be90d9769a",
   "metadata": {},
   "outputs": [],
   "source": [
    "data_flow = tf.data.Dataset.from_generator(genenerator, tf.float32, output_shapes=(256,256,3))"
   ]
  },
  {
   "cell_type": "code",
   "execution_count": 3,
   "id": "13ffe8d5-3328-4563-8cec-5c68c606b9d3",
   "metadata": {},
   "outputs": [],
   "source": [
    "from tensorflow.keras.preprocessing.image import ImageDataGenerator\n",
    "\n",
    "def custom_preprocessing(x):\n",
    "    x = tf.image.rgb_to_grayscale(x)  # Convert to grayscale\n",
    "    # print(x.shape)\n",
    "    # x = tf.image.resize(x, (64, 64))  # Resize to 64x64\n",
    "    # print(x.shape)\n",
    "    return x\n",
    "\n",
    "data_generator = ImageDataGenerator(\n",
    "    preprocessing_function=custom_preprocessing,\n",
    "    rescale=1.0/127.5 - 1.0 \n",
    ")\n",
    "\n",
    "batch_size = 32\n",
    "\n",
    "data_flow = data_generator.flow(\n",
    "    images,\n",
    "    batch_size=batch_size,\n",
    "    shuffle=True\n",
    ")"
   ]
  },
  {
   "cell_type": "code",
   "execution_count": 5,
   "id": "ae8f6db2-c4da-40c4-bee1-b0ca4ab4e5df",
   "metadata": {},
   "outputs": [
    {
     "name": "stdout",
     "output_type": "stream",
     "text": [
      "WARNING:tensorflow:AutoGraph could not transform <function resize_data at 0x7fe7e1f29a60> and will run it as-is.\n",
      "Cause: Unable to locate the source code of <function resize_data at 0x7fe7e1f29a60>. Note that functions defined in certain environments, like the interactive Python shell, do not expose their source code. If that is the case, you should define them in a .py source file. If you are certain the code is graph-compatible, wrap the call using @tf.autograph.experimental.do_not_convert. Original error: could not get source code\n",
      "To silence this warning, decorate the function with @tf.autograph.experimental.do_not_convert\n",
      "WARNING: AutoGraph could not transform <function resize_data at 0x7fe7e1f29a60> and will run it as-is.\n",
      "Cause: Unable to locate the source code of <function resize_data at 0x7fe7e1f29a60>. Note that functions defined in certain environments, like the interactive Python shell, do not expose their source code. If that is the case, you should define them in a .py source file. If you are certain the code is graph-compatible, wrap the call using @tf.autograph.experimental.do_not_convert. Original error: could not get source code\n",
      "To silence this warning, decorate the function with @tf.autograph.experimental.do_not_convert\n",
      "CPU times: user 93.8 ms, sys: 78.9 ms, total: 173 ms\n",
      "Wall time: 1.27 s\n"
     ]
    }
   ],
   "source": [
    "%%time\n",
    "# images = tf.data.Dataset.from_tensor_slices(images)\n",
    "\n",
    "def resize_data(image):\n",
    "  SIZE = (64, 64)\n",
    "  image = tf.image.resize(image, SIZE)\n",
    "  image = tf.image.rgb_to_grayscale(image)\n",
    "  image = tf.cast(image, dtype=tf.float32)\n",
    "  image = (image / 127.5) - 1.0\n",
    "  return image\n",
    "  \n",
    "\n",
    "data_flow = data_flow.map(resize_data)"
   ]
  },
  {
   "cell_type": "code",
   "execution_count": 6,
   "id": "222a887a-e064-4656-8b5c-952863b109f2",
   "metadata": {},
   "outputs": [
    {
     "data": {
      "text/plain": [
       "<matplotlib.image.AxesImage at 0x7fe7e1b0e2b0>"
      ]
     },
     "execution_count": 6,
     "metadata": {},
     "output_type": "execute_result"
    },
    {
     "data": {
      "image/png": "[encoded data removed]",
      "text/plain": [
       "<Figure size 720x432 with 1 Axes>"
      ]
     },
     "metadata": {
      "needs_background": "light"
     },
     "output_type": "display_data"
    }
   ],
   "source": [
    "iterator = iter(data_flow)\n",
    "\n",
    "plt.figure(figsize=(10, 6))\n",
    "plt.imshow(next(iterator).numpy().astype(np.float32), cmap=\"gray\")"
   ]
  },
  {
   "cell_type": "code",
   "execution_count": 7,
   "id": "87ba83de-7377-4fe5-9332-a04ae5aedb6a",
   "metadata": {},
   "outputs": [
    {
     "name": "stdout",
     "output_type": "stream",
     "text": [
      "Disturbed Galaxies: 1873\n",
      "Merging Galaxies: 1423\n",
      "Round Smooth Galaxies: 2628\n",
      "In-between Round Smooth Galaxies: 1829\n",
      "Cigar Shaped Smooth Galaxies: 2043\n",
      "Barred Spiral Galaxies: 334\n",
      "Unbarred Tight Spiral Galaxies: 2027\n",
      "Unbarred Loose Spiral Galaxies: 2645\n",
      "Edge-on Galaxies without Bulge: 1853\n",
      "Edge-on Galaxies with Bulge: 1081\n"
     ]
    }
   ],
   "source": [
    "for name, count in zip(labels_names, np.unique(labels[:,:], axis=0, return_counts=True)[1]):\n",
    "    print(f\"{name}: {count}\")"
   ]
  },
  {
   "cell_type": "code",
   "execution_count": 8,
   "id": "c192cee3-cfff-43a3-a5f2-a4939e4e82b7",
   "metadata": {},
   "outputs": [
    {
     "ename": "TypeError",
     "evalue": "'_TensorSliceDataset' object is not subscriptable",
     "output_type": "error",
     "traceback": [
      "\u001b[0;31m---------------------------------------------------------------------------\u001b[0m",
      "\u001b[0;31mTypeError\u001b[0m                                 Traceback (most recent call last)",
      "Cell \u001b[0;32mIn[8], line 9\u001b[0m\n\u001b[1;32m      5\u001b[0m     \u001b[38;5;28mprint\u001b[39m(labels[index])\n\u001b[1;32m      6\u001b[0m     plt\u001b[38;5;241m.\u001b[39mshow()\n\u001b[0;32m----> 9\u001b[0m \u001b[43mshow_image\u001b[49m\u001b[43m(\u001b[49m\u001b[38;5;241;43m13\u001b[39;49m\u001b[43m)\u001b[49m\n",
      "Cell \u001b[0;32mIn[8], line 3\u001b[0m, in \u001b[0;36mshow_image\u001b[0;34m(index)\u001b[0m\n\u001b[1;32m      1\u001b[0m \u001b[38;5;28;01mdef\u001b[39;00m \u001b[38;5;21mshow_image\u001b[39m(index):\n\u001b[1;32m      2\u001b[0m     plt\u001b[38;5;241m.\u001b[39mfigure(figsize\u001b[38;5;241m=\u001b[39m(\u001b[38;5;241m10\u001b[39m, \u001b[38;5;241m6\u001b[39m))\n\u001b[0;32m----> 3\u001b[0m     plt\u001b[38;5;241m.\u001b[39mimshow(\u001b[43mimages\u001b[49m\u001b[43m[\u001b[49m\u001b[43mindex\u001b[49m\u001b[43m]\u001b[49m\u001b[38;5;241m.\u001b[39mastype(np\u001b[38;5;241m.\u001b[39mint16), cmap\u001b[38;5;241m=\u001b[39m\u001b[38;5;124m\"\u001b[39m\u001b[38;5;124mgray\u001b[39m\u001b[38;5;124m\"\u001b[39m)\n\u001b[1;32m      4\u001b[0m     plt\u001b[38;5;241m.\u001b[39mtitle(labels_names[np\u001b[38;5;241m.\u001b[39mwhere(labels[index] \u001b[38;5;241m==\u001b[39m \u001b[38;5;241m1\u001b[39m)[\u001b[38;5;241m0\u001b[39m][\u001b[38;5;241m0\u001b[39m]])\n\u001b[1;32m      5\u001b[0m     \u001b[38;5;28mprint\u001b[39m(labels[index])\n",
      "\u001b[0;31mTypeError\u001b[0m: '_TensorSliceDataset' object is not subscriptable"
     ]
    },
    {
     "data": {
      "text/plain": [
       "<Figure size 720x432 with 0 Axes>"
      ]
     },
     "metadata": {},
     "output_type": "display_data"
    }
   ],
   "source": [
    "def show_image(index):\n",
    "    plt.figure(figsize=(10, 6))\n",
    "    plt.imshow(images[index].astype(np.int16), cmap=\"gray\")\n",
    "    plt.title(labels_names[np.where(labels[index] == 1)[0][0]])\n",
    "    print(labels[index])\n",
    "    plt.show()\n",
    "\n",
    "\n",
    "show_image(13)"
   ]
  },
  {
   "cell_type": "code",
   "execution_count": 13,
   "id": "dfd40e6f-6186-410b-9596-2df796410470",
   "metadata": {},
   "outputs": [],
   "source": [
    "scaler = MinMaxScaler()\n",
    "images = scaler.fit_transform(images.reshape(-1, 64*64))\n",
    "images = images * 2 - 1\n",
    "images = images.reshape(-1, 64, 64)"
   ]
  },
  {
   "cell_type": "code",
   "execution_count": 15,
   "id": "683aa63a-5d15-422f-8786-2558b7c7b706",
   "metadata": {},
   "outputs": [],
   "source": [
    "BUFFER_SIZE = 17736\n",
    "BATCH_SIZE = 16\n",
    "\n",
    "# Batch and shuffle the data\n",
    "data_flow = data_flow.shuffle(BUFFER_SIZE).batch(BATCH_SIZE)"
   ]
  },
  {
   "cell_type": "markdown",
   "id": "aa1fafa7-e30e-40e0-b011-107d16865fd8",
   "metadata": {},
   "source": [
    "# Model"
   ]
  },
  {
   "cell_type": "code",
   "execution_count": 7,
   "id": "78381a83-f8ab-49bc-b626-1f5114e49377",
   "metadata": {},
   "outputs": [],
   "source": [
    "tf.random.set_seed(42)\n",
    "np.random.seed(42)\n",
    "\n",
    "codings_size = 100\n",
    "\n",
    "generator = Sequential([\n",
    "    Dense(4 * 4 * 512, input_shape=[codings_size,]),\n",
    "    Reshape([4, 4, 512]),\n",
    "    BatchNormalization(),\n",
    "    Conv2DTranspose(filters=512, kernel_size=4, strides=2, padding=\"same\", activation=LeakyReLU(0.2)),\n",
    "    BatchNormalization(),\n",
    "    Conv2DTranspose(filters=256, kernel_size=4, strides=2, padding=\"same\", activation=LeakyReLU(0.2)),\n",
    "    BatchNormalization(),\n",
    "    Conv2DTranspose(filters=128, kernel_size=4, strides=2, padding=\"same\", activation=LeakyReLU(0.2)),\n",
    "    BatchNormalization(),\n",
    "    Conv2DTranspose(filters=1, kernel_size=4, strides=2, padding=\"same\", activation=\"tanh\"),\n",
    "])\n",
    "\n",
    "discriminator = Sequential([\n",
    "    Conv2D(filters=64, kernel_size=4, strides=2, padding=\"same\", activation=LeakyReLU(0.2), input_shape=[64, 64, 1]),\n",
    "    BatchNormalization(),\n",
    "    Conv2D(filters=128, kernel_size=4, strides=2, padding=\"same\", activation=LeakyReLU(0.2)),\n",
    "    BatchNormalization(),\n",
    "    Conv2D(filters=256, kernel_size=4, strides=2, padding=\"same\", activation=LeakyReLU(0.2)),\n",
    "    BatchNormalization(),\n",
    "    Conv2D(filters=512, kernel_size=4, strides=2, padding=\"same\", activation=LeakyReLU(0.2)),\n",
    "    BatchNormalization(),\n",
    "    Flatten(),\n",
    "    Dense(1, activation=\"sigmoid\")\n",
    "])\n",
    "\n"
   ]
  },
  {
   "cell_type": "code",
   "execution_count": 11,
   "id": "41b589de-5ea4-481c-833f-581c5d8010b4",
   "metadata": {},
   "outputs": [
    {
     "name": "stdout",
     "output_type": "stream",
     "text": [
      "Model: \"sequential\"\n",
      "_________________________________________________________________\n",
      " Layer (type)                Output Shape              Param #   \n",
      "=================================================================\n",
      " dense (Dense)               (None, 8192)              827392    \n",
      "                                                                 \n",
      " reshape (Reshape)           (None, 4, 4, 512)         0         \n",
      "                                                                 \n",
      " batch_normalization (BatchN  (None, 4, 4, 512)        2048      \n",
      " ormalization)                                                   \n",
      "                                                                 \n",
      " conv2d_transpose (Conv2DTra  (None, 8, 8, 512)        4194816   \n",
      " nspose)                                                         \n",
      "                                                                 \n",
      " batch_normalization_1 (Batc  (None, 8, 8, 512)        2048      \n",
      " hNormalization)                                                 \n",
      "                                                                 \n",
      " conv2d_transpose_1 (Conv2DT  (None, 16, 16, 256)      2097408   \n",
      " ranspose)                                                       \n",
      "                                                                 \n",
      " batch_normalization_2 (Batc  (None, 16, 16, 256)      1024      \n",
      " hNormalization)                                                 \n",
      "                                                                 \n",
      " conv2d_transpose_2 (Conv2DT  (None, 32, 32, 128)      524416    \n",
      " ranspose)                                                       \n",
      "                                                                 \n",
      " batch_normalization_3 (Batc  (None, 32, 32, 128)      512       \n",
      " hNormalization)                                                 \n",
      "                                                                 \n",
      " conv2d_transpose_3 (Conv2DT  (None, 64, 64, 1)        2049      \n",
      " ranspose)                                                       \n",
      "                                                                 \n",
      "=================================================================\n",
      "Total params: 7,651,713\n",
      "Trainable params: 7,648,897\n",
      "Non-trainable params: 2,816\n",
      "_________________________________________________________________\n"
     ]
    }
   ],
   "source": [
    "generator.summary()"
   ]
  },
  {
   "cell_type": "code",
   "execution_count": 12,
   "id": "efa3e01c-a173-4cc7-ba23-0f294ecaf2f2",
   "metadata": {},
   "outputs": [
    {
     "name": "stdout",
     "output_type": "stream",
     "text": [
      "Model: \"sequential_1\"\n",
      "_________________________________________________________________\n",
      " Layer (type)                Output Shape              Param #   \n",
      "=================================================================\n",
      " conv2d (Conv2D)             (None, 32, 32, 64)        1088      \n",
      "                                                                 \n",
      " batch_normalization_4 (Batc  (None, 32, 32, 64)       256       \n",
      " hNormalization)                                                 \n",
      "                                                                 \n",
      " conv2d_1 (Conv2D)           (None, 16, 16, 128)       131200    \n",
      "                                                                 \n",
      " batch_normalization_5 (Batc  (None, 16, 16, 128)      512       \n",
      " hNormalization)                                                 \n",
      "                                                                 \n",
      " conv2d_2 (Conv2D)           (None, 8, 8, 256)         524544    \n",
      "                                                                 \n",
      " batch_normalization_6 (Batc  (None, 8, 8, 256)        1024      \n",
      " hNormalization)                                                 \n",
      "                                                                 \n",
      " conv2d_3 (Conv2D)           (None, 4, 4, 512)         2097664   \n",
      "                                                                 \n",
      " batch_normalization_7 (Batc  (None, 4, 4, 512)        2048      \n",
      " hNormalization)                                                 \n",
      "                                                                 \n",
      " flatten (Flatten)           (None, 8192)              0         \n",
      "                                                                 \n",
      " dense_1 (Dense)             (None, 1)                 8193      \n",
      "                                                                 \n",
      "=================================================================\n",
      "Total params: 2,766,529\n",
      "Trainable params: 2,764,609\n",
      "Non-trainable params: 1,920\n",
      "_________________________________________________________________\n"
     ]
    }
   ],
   "source": [
    "discriminator.summary()"
   ]
  },
  {
   "cell_type": "code",
   "execution_count": 8,
   "id": "de5eeed0-ab02-4477-9d88-b8dac2045e1a",
   "metadata": {},
   "outputs": [],
   "source": [
    "# This method returns a helper function to compute cross entropy loss\n",
    "cross_entropy = tf.keras.losses.BinaryCrossentropy(from_logits=True)\n",
    "\n",
    "def discriminator_loss(real_output, fake_output):\n",
    "    real_loss = cross_entropy(tf.ones_like(real_output), real_output)\n",
    "    fake_loss = cross_entropy(tf.zeros_like(fake_output), fake_output)\n",
    "    total_loss = real_loss + fake_loss\n",
    "    return total_loss\n",
    "\n",
    "\n",
    "def generator_loss(fake_output):\n",
    "    return cross_entropy(tf.ones_like(fake_output), fake_output)\n",
    "\n",
    "generator_optimizer = tf.keras.optimizers.Adam(learning_rate=0.002, beta_1=0.5, beta_2=0.999)\n",
    "discriminator_optimizer = tf.keras.optimizers.Adam(learning_rate=0.002, beta_1=0.5, beta_2=0.999)"
   ]
  },
  {
   "cell_type": "code",
   "execution_count": 36,
   "id": "f8b92e88-881e-4fa3-af89-28effa3b4795",
   "metadata": {},
   "outputs": [],
   "source": [
    "checkpoint_dir = './training_checkpoints'\n",
    "checkpoint_prefix = os.path.join(checkpoint_dir, \"ckpt\")\n",
    "checkpoint = tf.train.Checkpoint(generator_optimizer=generator_optimizer,\n",
    "                                 discriminator_optimizer=discriminator_optimizer,\n",
    "                                 generator=generator,\n",
    "                                 discriminator=discriminator)"
   ]
  },
  {
   "cell_type": "code",
   "execution_count": 9,
   "id": "40bd0f4f-3a0a-4cc0-a3b9-ac1615fd1544",
   "metadata": {},
   "outputs": [],
   "source": [
    "EPOCHS = 50\n",
    "num_examples_to_generate = 16\n",
    "\n",
    "seed = tf.random.normal([num_examples_to_generate, codings_size])"
   ]
  },
  {
   "cell_type": "code",
   "execution_count": 10,
   "id": "8492b4f9-71bd-4e00-9ca6-33add0f9b7f2",
   "metadata": {},
   "outputs": [],
   "source": [
    "# Notice the use of `tf.function`\n",
    "# This annotation causes the function to be \"compiled\".\n",
    "@tf.function\n",
    "def train_step(images):\n",
    "    noise = tf.random.normal([BATCH_SIZE, codings_size])\n",
    "\n",
    "    with tf.GradientTape() as gen_tape, tf.GradientTape() as disc_tape:\n",
    "      generated_images = generator(noise, training=True)\n",
    "\n",
    "      real_output = discriminator(images, training=True)\n",
    "      fake_output = discriminator(generated_images, training=True)\n",
    "\n",
    "      gen_loss = generator_loss(fake_output)\n",
    "      disc_loss = discriminator_loss(real_output, fake_output)\n",
    "\n",
    "    gradients_of_generator = gen_tape.gradient(gen_loss, generator.trainable_variables)\n",
    "    gradients_of_discriminator = disc_tape.gradient(disc_loss, discriminator.trainable_variables)\n",
    "\n",
    "    generator_optimizer.apply_gradients(zip(gradients_of_generator, generator.trainable_variables))\n",
    "    discriminator_optimizer.apply_gradients(zip(gradients_of_discriminator, discriminator.trainable_variables))"
   ]
  },
  {
   "cell_type": "code",
   "execution_count": 11,
   "id": "2566e002-c17d-48fc-96ea-9c2642f0c0a6",
   "metadata": {},
   "outputs": [],
   "source": [
    "def train(dataset, epochs):\n",
    "  for epoch in range(epochs):\n",
    "    start = time.time()\n",
    "\n",
    "    for image_batch in dataset:\n",
    "      train_step(image_batch)\n",
    "\n",
    "    # Produce images for the GIF as you go\n",
    "    display.clear_output(wait=True)\n",
    "    generate_images(generator, epoch + 1, seed)\n",
    "\n",
    "    # Save the model every 15 epochs\n",
    "    if (epoch + 1) % 15 == 0:\n",
    "      checkpoint.save(file_prefix = checkpoint_prefix)\n",
    "\n",
    "    print ('Time for epoch {} is {} sec'.format(epoch + 1, time.time()-start))\n",
    "\n",
    "  # Generate after the final epoch\n",
    "  display.clear_output(wait=True)\n",
    "  generate_images(generator,epochs,seed)"
   ]
  },
  {
   "cell_type": "code",
   "execution_count": 12,
   "id": "af4e41db-cb79-43c0-9582-21434f00bbd6",
   "metadata": {},
   "outputs": [],
   "source": [
    "def generate_images(model, epoch, test_input):\n",
    "  # Notice `training` is set to False.\n",
    "  # This is so all layers run in inference mode (batchnorm).\n",
    "  predictions = model(test_input, training=False)\n",
    "\n",
    "  fig = plt.figure(figsize=(4, 4))\n",
    "\n",
    "  for i in range(predictions.shape[0]):\n",
    "      plt.subplot(4, 4, i+1)\n",
    "      plt.imshow(predictions[i, :, :, 0] * 127.5 + 127.5, cmap='gray')\n",
    "      plt.axis('off')\n",
    "  \n",
    "  plt.show()"
   ]
  },
  {
   "cell_type": "code",
   "execution_count": null,
   "id": "bff731be-3502-4cb8-84af-7e61bd43d35b",
   "metadata": {},
   "outputs": [],
   "source": [
    "%%time\n",
    "time.sleep(5)\n",
    "train(images, 2)"
   ]
  },
  {
   "cell_type": "code",
   "execution_count": 13,
   "id": "773f937c-b0dd-4441-b9a2-598da75d9425",
   "metadata": {},
   "outputs": [
    {
     "name": "stdout",
     "output_type": "stream",
     "text": [
      "                        images: 13.0 GiB\n",
      "                        labels: 173.3 KiB\n",
      "                           _i7:  1.3 KiB\n",
      "                         Model:  1.0 KiB\n",
      "                     MaxPool2D:  1.0 KiB\n",
      "                       Dropout:  1.0 KiB\n",
      "                          Adam:  1.0 KiB\n",
      "                           SGD:  1.0 KiB\n",
      "              MeanSquaredError:  1.0 KiB\n",
      "                  MinMaxScaler:  1.0 KiB\n"
     ]
    }
   ],
   "source": [
    "import sys\n",
    "def sizeof_fmt(num, suffix='B'):\n",
    "    for unit in ['','Ki','Mi','Gi','Ti','Pi','Ei','Zi']:\n",
    "        if abs(num) < 1024.0:\n",
    "            return \"%3.1f %s%s\" % (num, unit, suffix)\n",
    "        num /= 1024.0\n",
    "    return \"%.1f %s%s\" % (num, 'Yi', suffix)\n",
    "\n",
    "for name, size in sorted(((name, sys.getsizeof(value)) for name, value in list(\n",
    "                          locals().items())), key= lambda x: -x[1])[:10]:\n",
    "    print(\"{:>30}: {:>8}\".format(name, sizeof_fmt(size)))"
   ]
  },
  {
   "cell_type": "code",
   "execution_count": null,
   "id": "433d1590-e110-4009-95e6-8cdddccef848",
   "metadata": {},
   "outputs": [],
   "source": []
  }
 ],
 "metadata": {
  "kernelspec": {
   "display_name": "Python 3",
   "language": "python",
   "name": "python3"
  },
  "language_info": {
   "codemirror_mode": {
    "name": "ipython",
    "version": 3
   },
   "file_extension": ".py",
   "mimetype": "text/x-python",
   "name": "python",
   "nbconvert_exporter": "python",
   "pygments_lexer": "ipython3",
   "version": "3.9.18"
  }
 },
 "nbformat": 4,
 "nbformat_minor": 5
}
