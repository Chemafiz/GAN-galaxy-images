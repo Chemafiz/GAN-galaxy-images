{
 "cells": [
  {
   "cell_type": "code",
   "execution_count": 7,
   "id": "97fc48bf-2b55-4c9d-b1c0-4c8e61b7ddc9",
   "metadata": {},
   "outputs": [],
   "source": [
    "import numpy as np\n",
    "import matplotlib.pyplot as plt\n",
    "import h5py\n",
    "import random\n",
    "import os\n",
    "import time\n",
    "\n",
    "from keras.models import Sequential, Model,load_model\n",
    "from keras.layers import Dense, Flatten, Reshape, Conv2D, MaxPool2D, Conv2DTranspose, BatchNormalization, Dropout, LeakyReLU, Concatenate, Input, Embedding\n",
    "from keras.optimizers import Adam, SGD\n",
    "from keras.losses import MeanSquaredError\n",
    "from keras import activations\n",
    "from tensorflow.keras.utils import plot_model # for plotting model diagram\n",
    "\n",
    "from sklearn.preprocessing import MinMaxScaler\n",
    "from astroNN.datasets import load_galaxy10\n",
    "\n",
    "from tensorflow.keras import utils\n",
    "import tensorflow as tf\n",
    "tf.config.run_functions_eagerly(True)\n",
    "tf.data.experimental.enable_debug_mode()\n"
   ]
  },
  {
   "cell_type": "code",
   "execution_count": 18,
   "id": "99be6c89-7397-499f-83c3-bc81a7786a9b",
   "metadata": {},
   "outputs": [
    {
     "name": "stdout",
     "output_type": "stream",
     "text": [
      "[name: \"/device:CPU:0\"\n",
      "device_type: \"CPU\"\n",
      "memory_limit: 268435456\n",
      "locality {\n",
      "}\n",
      "incarnation: 10736399397341241102\n",
      "xla_global_id: -1\n",
      ", name: \"/device:GPU:0\"\n",
      "device_type: \"GPU\"\n",
      "memory_limit: 4772069376\n",
      "locality {\n",
      "  bus_id: 1\n",
      "  links {\n",
      "  }\n",
      "}\n",
      "incarnation: 6826569002973542278\n",
      "physical_device_desc: \"device: 0, name: NVIDIA GeForce GTX 1060 6GB, pci bus id: 0000:01:00.0, compute capability: 6.1\"\n",
      "xla_global_id: 416903419\n",
      "]\n"
     ]
    }
   ],
   "source": [
    "from tensorflow.python.client import device_lib\n",
    "print(device_lib.list_local_devices())"
   ]
  },
  {
   "cell_type": "code",
   "execution_count": 3,
   "id": "adf8810f",
   "metadata": {},
   "outputs": [
    {
     "name": "stdout",
     "output_type": "stream",
     "text": [
      "2.12.1\n"
     ]
    }
   ],
   "source": [
    "import tensorflow as tf\n",
    "print(tf.__version__)"
   ]
  },
  {
   "cell_type": "code",
   "execution_count": null,
   "id": "79955288-9bad-4821-bfb1-e0a3d9e57639",
   "metadata": {},
   "outputs": [],
   "source": [
    "# with h5py.File('Galaxy10_DECals.h5', 'r') as h5_file:\n",
    "#     # Odczytaj dane ze zbiorów danych\n",
    "#     ans_data = h5_file['ans'][:]\n",
    "#     dec_data = h5_file['dec'][:]\n",
    "#     images_data = h5_file['images'][:]\n",
    "#     pxscale_data = h5_file['pxscale'][:]\n",
    "#     ra_data = h5_file['ra'][:]\n",
    "#     redshift_data = h5_file['redshift'][:]\n",
    "\n",
    "# # Tworzenie DataFrame z danymi\n",
    "# data_dict = {\n",
    "#     'ans': ans_data,\n",
    "#     'dec': dec_data,\n",
    "#     'images': images_data,\n",
    "#     'pxscale': pxscale_data,\n",
    "#     'ra': ra_data,\n",
    "#     'redshift': redshift_data\n",
    "# }\n",
    "\n",
    "# df = pd.DataFrame(data_dict)"
   ]
  },
  {
   "cell_type": "code",
   "execution_count": 2,
   "id": "d71983a4-4561-42b2-ac44-1d9c5932a388",
   "metadata": {},
   "outputs": [
    {
     "name": "stdout",
     "output_type": "stream",
     "text": [
      "CPU times: user 36.8 s, sys: 4.08 s, total: 40.9 s\n",
      "Wall time: 59.9 s\n"
     ]
    }
   ],
   "source": [
    "%%time\n",
    "# # To get the images and labels from file\n",
    "with h5py.File('../Galaxy10_DECals.h5', 'r') as F:\n",
    "    images = np.array(F['images'])[7940:]\n",
    "    labels = np.array(F['ans'])[7940:]\n",
    "\n",
    "# To convert the labels to categorical 10 classes\n",
    "# labels = utils.to_categorical(labels, 10)\n",
    "\n",
    "# To convert to desirable type\n",
    "# labels = labels.astype(np.uint8)\n",
    "images = images.astype(np.float32)\n",
    "labels_names = [\"Disturbed Galaxies\", \"Merging Galaxies\", \"Round Smooth Galaxies\", \"In-between Round Smooth Galaxies\", \"Cigar Shaped Smooth Galaxies\",\n",
    "            \"Barred Spiral Galaxies\", \"Unbarred Tight Spiral Galaxies\", \"Unbarred Loose Spiral Galaxies\", \"Edge-on Galaxies without Bulge\", \"Edge-on Galaxies with Bulge\"]"
   ]
  },
  {
   "cell_type": "code",
   "execution_count": 3,
   "id": "87ba83de-7377-4fe5-9332-a04ae5aedb6a",
   "metadata": {},
   "outputs": [
    {
     "name": "stdout",
     "output_type": "stream",
     "text": [
      "Disturbed Galaxies: 2043\n",
      "Merging Galaxies: 1829\n",
      "Round Smooth Galaxies: 2628\n",
      "In-between Round Smooth Galaxies: 1423\n",
      "Cigar Shaped Smooth Galaxies: 1873\n"
     ]
    }
   ],
   "source": [
    "for name, count in zip(labels_names, np.unique(labels[:], axis=0, return_counts=True)[1]):\n",
    "    print(f\"{name}: {count}\")"
   ]
  },
  {
   "cell_type": "code",
   "execution_count": 3,
   "id": "51cca556-9e03-4f23-87dd-5e4d2c5340db",
   "metadata": {},
   "outputs": [
    {
     "name": "stdout",
     "output_type": "stream",
     "text": [
      "Disturbed Galaxies: 1081\n",
      "Merging Galaxies: 1853\n",
      "Round Smooth Galaxies: 2645\n",
      "In-between Round Smooth Galaxies: 2027\n",
      "Cigar Shaped Smooth Galaxies: 334\n",
      "Barred Spiral Galaxies: 2043\n",
      "Unbarred Tight Spiral Galaxies: 1829\n",
      "Unbarred Loose Spiral Galaxies: 2628\n",
      "Edge-on Galaxies without Bulge: 1423\n",
      "Edge-on Galaxies with Bulge: 1873\n"
     ]
    }
   ],
   "source": [
    "for name, count in zip(labels_names, np.unique(labels[:], axis=0, return_counts=True)[1]):\n",
    "    print(f\"{name}: {count}\")"
   ]
  },
  {
   "cell_type": "code",
   "execution_count": 7,
   "id": "b86601dd-e886-4961-b682-7da89965cf2a",
   "metadata": {},
   "outputs": [
    {
     "data": {
      "text/plain": [
       "array([5, 5, 5, ..., 9, 9, 9], dtype=uint8)"
      ]
     },
     "execution_count": 7,
     "metadata": {},
     "output_type": "execute_result"
    }
   ],
   "source": [
    "[7940:]"
   ]
  },
  {
   "cell_type": "code",
   "execution_count": 3,
   "id": "21067430-e175-426f-b571-470c75f40148",
   "metadata": {},
   "outputs": [],
   "source": [
    "indexes = np.array([], dtype=np.int64)\n",
    "for i in range(5,10):\n",
    "    if i == 4:\n",
    "        continue\n",
    "    temp = np.where(labels == i)[0][:1000]\n",
    "    indexes = np.concatenate((indexes, temp), axis=None)"
   ]
  },
  {
   "cell_type": "code",
   "execution_count": 4,
   "id": "e9ddd168-bdb9-4c29-809e-48d59b8c02f7",
   "metadata": {},
   "outputs": [
    {
     "data": {
      "text/plain": [
       "(5000,)"
      ]
     },
     "execution_count": 4,
     "metadata": {},
     "output_type": "execute_result"
    }
   ],
   "source": [
    "indexes.shape"
   ]
  },
  {
   "cell_type": "code",
   "execution_count": 5,
   "id": "3331f219-e480-4551-96ef-310b9cb640d8",
   "metadata": {},
   "outputs": [],
   "source": [
    "images = images[tuple(indexes), :]"
   ]
  },
  {
   "cell_type": "code",
   "execution_count": 6,
   "id": "ac898eca-be8e-4b27-8aad-48bf0dcdb275",
   "metadata": {},
   "outputs": [
    {
     "data": {
      "text/plain": [
       "(5000, 256, 256, 3)"
      ]
     },
     "execution_count": 6,
     "metadata": {},
     "output_type": "execute_result"
    }
   ],
   "source": [
    "images.shape"
   ]
  },
  {
   "cell_type": "code",
   "execution_count": 7,
   "id": "447ae9bc-295f-40d1-ab36-0d9e4e0c481b",
   "metadata": {},
   "outputs": [
    {
     "name": "stdout",
     "output_type": "stream",
     "text": [
      "WARNING:tensorflow:AutoGraph could not transform <function resize_data at 0x7f52c02b9af0> and will run it as-is.\n",
      "Cause: Unable to locate the source code of <function resize_data at 0x7f52c02b9af0>. Note that functions defined in certain environments, like the interactive Python shell, do not expose their source code. If that is the case, you should define them in a .py source file. If you are certain the code is graph-compatible, wrap the call using @tf.autograph.experimental.do_not_convert. Original error: could not get source code\n",
      "To silence this warning, decorate the function with @tf.autograph.experimental.do_not_convert\n",
      "WARNING: AutoGraph could not transform <function resize_data at 0x7f52c02b9af0> and will run it as-is.\n",
      "Cause: Unable to locate the source code of <function resize_data at 0x7f52c02b9af0>. Note that functions defined in certain environments, like the interactive Python shell, do not expose their source code. If that is the case, you should define them in a .py source file. If you are certain the code is graph-compatible, wrap the call using @tf.autograph.experimental.do_not_convert. Original error: could not get source code\n",
      "To silence this warning, decorate the function with @tf.autograph.experimental.do_not_convert\n",
      "CPU times: user 5.47 s, sys: 3.15 s, total: 8.63 s\n",
      "Wall time: 9.86 s\n"
     ]
    }
   ],
   "source": [
    "%%time\n",
    "images = tf.data.Dataset.from_tensor_slices(images)\n",
    "\n",
    "def resize_data(image):\n",
    "  SIZE = (64,64)\n",
    "  image = tf.image.resize(image, SIZE)\n",
    "  image = tf.image.rgb_to_grayscale(image)\n",
    "  image = tf.cast(image, dtype=tf.float32)\n",
    "  image = (image / 127.5) - 1.0\n",
    "  return image\n",
    "  \n",
    "\n",
    "images = images.map(resize_data)"
   ]
  },
  {
   "cell_type": "code",
   "execution_count": 8,
   "id": "df3b8acc-eb03-4d58-b39b-c3be90d9769a",
   "metadata": {},
   "outputs": [],
   "source": [
    "CODINGS_SIZE = 100\n",
    "BUFFER_SIZE = 5000\n",
    "BATCH_SIZE = 32\n",
    "\n",
    "images = images.shuffle(BUFFER_SIZE).batch(BATCH_SIZE, drop_remainder=True).prefetch(1)"
   ]
  },
  {
   "cell_type": "code",
   "execution_count": 10,
   "id": "c192cee3-cfff-43a3-a5f2-a4939e4e82b7",
   "metadata": {},
   "outputs": [
    {
     "data": {
      "image/png": "[encoded data removed]",
      "text/plain": [
       "<Figure size 432x288 with 1 Axes>"
      ]
     },
     "metadata": {
      "needs_background": "light"
     },
     "output_type": "display_data"
    }
   ],
   "source": [
    "for image in images.take(1):  # only take first element of dataset\n",
    "    plt.imshow(image[10].numpy(), cmap=\"gray\")"
   ]
  },
  {
   "cell_type": "markdown",
   "id": "aa1fafa7-e30e-40e0-b011-107d16865fd8",
   "metadata": {},
   "source": [
    "# Model"
   ]
  },
  {
   "cell_type": "code",
   "execution_count": 22,
   "id": "5b6be9f4-10ad-4320-b358-56cc9eb81cb3",
   "metadata": {},
   "outputs": [],
   "source": [
    "generator_layer1 = Sequential([\n",
    "    Dense(4 * 4 * 512, input_shape=[CODINGS_SIZE,], activation=LeakyReLU(0.2)),\n",
    "    Reshape([4, 4, 512]),\n",
    "    BatchNormalization()\n",
    "])\n",
    "\n",
    "generator_layer2 = Sequential([\n",
    "    Dense(4*4, input_shape=[1,], activation=LeakyReLU(0.2)),\n",
    "    Reshape([4, 4, 1]),\n",
    "    BatchNormalization()\n",
    "])\n",
    "\n",
    "generator = Sequential([\n",
    "    Concatenate([generator_layer1, generator_layer2]),\n",
    "    Conv2DTranspose(filters=512, kernel_size=4, strides=2, padding=\"same\", activation=LeakyReLU(0.2)),\n",
    "    BatchNormalization(),\n",
    "])"
   ]
  },
  {
   "cell_type": "code",
   "execution_count": 23,
   "id": "47209142-e230-4e27-aa86-8dee27714364",
   "metadata": {},
   "outputs": [
    {
     "ename": "ValueError",
     "evalue": "This model has not yet been built. Build the model first by calling `build()` or by calling the model on a batch of data.",
     "output_type": "error",
     "traceback": [
      "\u001b[0;31m---------------------------------------------------------------------------\u001b[0m",
      "\u001b[0;31mValueError\u001b[0m                                Traceback (most recent call last)",
      "Cell \u001b[0;32mIn[23], line 1\u001b[0m\n\u001b[0;32m----> 1\u001b[0m \u001b[43mgenerator\u001b[49m\u001b[38;5;241;43m.\u001b[39;49m\u001b[43msummary\u001b[49m\u001b[43m(\u001b[49m\u001b[43m)\u001b[49m\n",
      "File \u001b[0;32m~/miniconda3/envs/tf/lib/python3.9/site-packages/keras/engine/training.py:3229\u001b[0m, in \u001b[0;36mModel.summary\u001b[0;34m(self, line_length, positions, print_fn, expand_nested, show_trainable, layer_range)\u001b[0m\n\u001b[1;32m   3198\u001b[0m \u001b[38;5;250m\u001b[39m\u001b[38;5;124;03m\"\"\"Prints a string summary of the network.\u001b[39;00m\n\u001b[1;32m   3199\u001b[0m \n\u001b[1;32m   3200\u001b[0m \u001b[38;5;124;03mArgs:\u001b[39;00m\n\u001b[0;32m   (...)\u001b[0m\n\u001b[1;32m   3226\u001b[0m \u001b[38;5;124;03m    ValueError: if `summary()` is called before the model is built.\u001b[39;00m\n\u001b[1;32m   3227\u001b[0m \u001b[38;5;124;03m\"\"\"\u001b[39;00m\n\u001b[1;32m   3228\u001b[0m \u001b[38;5;28;01mif\u001b[39;00m \u001b[38;5;129;01mnot\u001b[39;00m \u001b[38;5;28mself\u001b[39m\u001b[38;5;241m.\u001b[39mbuilt:\n\u001b[0;32m-> 3229\u001b[0m     \u001b[38;5;28;01mraise\u001b[39;00m \u001b[38;5;167;01mValueError\u001b[39;00m(\n\u001b[1;32m   3230\u001b[0m         \u001b[38;5;124m\"\u001b[39m\u001b[38;5;124mThis model has not yet been built. \u001b[39m\u001b[38;5;124m\"\u001b[39m\n\u001b[1;32m   3231\u001b[0m         \u001b[38;5;124m\"\u001b[39m\u001b[38;5;124mBuild the model first by calling `build()` or by calling \u001b[39m\u001b[38;5;124m\"\u001b[39m\n\u001b[1;32m   3232\u001b[0m         \u001b[38;5;124m\"\u001b[39m\u001b[38;5;124mthe model on a batch of data.\u001b[39m\u001b[38;5;124m\"\u001b[39m\n\u001b[1;32m   3233\u001b[0m     )\n\u001b[1;32m   3234\u001b[0m layer_utils\u001b[38;5;241m.\u001b[39mprint_summary(\n\u001b[1;32m   3235\u001b[0m     \u001b[38;5;28mself\u001b[39m,\n\u001b[1;32m   3236\u001b[0m     line_length\u001b[38;5;241m=\u001b[39mline_length,\n\u001b[0;32m   (...)\u001b[0m\n\u001b[1;32m   3241\u001b[0m     layer_range\u001b[38;5;241m=\u001b[39mlayer_range,\n\u001b[1;32m   3242\u001b[0m )\n",
      "\u001b[0;31mValueError\u001b[0m: This model has not yet been built. Build the model first by calling `build()` or by calling the model on a batch of data."
     ]
    }
   ],
   "source": [
    "generator.summary()"
   ]
  },
  {
   "cell_type": "code",
   "execution_count": 20,
   "id": "6f3dd346-f78c-419f-bfa9-f2ae21de0d10",
   "metadata": {},
   "outputs": [
    {
     "name": "stdout",
     "output_type": "stream",
     "text": [
      "You must install pydot (`pip install pydot`) and install graphviz (see instructions at https://graphviz.gitlab.io/download/) for plot_model to work.\n"
     ]
    }
   ],
   "source": [
    "plot_model(generator_layer1, show_shapes=True, show_layer_names=True, dpi=400)\n"
   ]
  },
  {
   "cell_type": "code",
   "execution_count": 9,
   "id": "78381a83-f8ab-49bc-b626-1f5114e49377",
   "metadata": {},
   "outputs": [],
   "source": [
    "tf.random.set_seed(42)\n",
    "np.random.seed(42)\n",
    "\n",
    "codings_size = 100\n",
    "\n",
    "generator_layer1 = Sequential([\n",
    "    Dense(4 * 4 * 512, input_shape=[codings_size,]),\n",
    "    Reshape([4, 4, 512]),\n",
    "    BatchNormalization()\n",
    "    Conv2DTranspose(filters=512, kernel_size=4, strides=2, padding=\"same\", activation=LeakyReLU(0.2)),\n",
    "    BatchNormalization(),\n",
    "    Conv2DTranspose(filters=256, kernel_size=4, strides=2, padding=\"same\", activation=LeakyReLU(0.2)),\n",
    "    BatchNormalization(),\n",
    "    Conv2DTranspose(filters=128, kernel_size=4, strides=2, padding=\"same\", activation=LeakyReLU(0.2)),\n",
    "    BatchNormalization(),\n",
    "    Conv2DTranspose(filters=1, kernel_size=4, strides=2, padding=\"same\", activation=\"tanh\"),\n",
    "])\n",
    "\n",
    "discriminator = Sequential([\n",
    "    Conv2D(filters=64, kernel_size=4, strides=2, padding=\"same\", activation=LeakyReLU(0.2), input_shape=[64, 64, 1]),\n",
    "    BatchNormalization(),\n",
    "    Conv2D(filters=128, kernel_size=4, strides=2, padding=\"same\", activation=LeakyReLU(0.2)),\n",
    "    BatchNormalization(),\n",
    "    Conv2D(filters=256, kernel_size=4, strides=2, padding=\"same\", activation=LeakyReLU(0.2)),\n",
    "    BatchNormalization(),\n",
    "    Conv2D(filters=512, kernel_size=4, strides=2, padding=\"same\", activation=LeakyReLU(0.2)),\n",
    "    BatchNormalization(),\n",
    "    Flatten(),\n",
    "    Dense(1, activation=\"sigmoid\")\n",
    "])\n",
    "\n"
   ]
  },
  {
   "cell_type": "code",
   "execution_count": 11,
   "id": "41b589de-5ea4-481c-833f-581c5d8010b4",
   "metadata": {},
   "outputs": [
    {
     "name": "stdout",
     "output_type": "stream",
     "text": [
      "Model: \"sequential\"\n",
      "_________________________________________________________________\n",
      " Layer (type)                Output Shape              Param #   \n",
      "=================================================================\n",
      " dense (Dense)               (None, 8192)              827392    \n",
      "                                                                 \n",
      " reshape (Reshape)           (None, 4, 4, 512)         0         \n",
      "                                                                 \n",
      " batch_normalization (BatchN  (None, 4, 4, 512)        2048      \n",
      " ormalization)                                                   \n",
      "                                                                 \n",
      " conv2d_transpose (Conv2DTra  (None, 8, 8, 512)        4194816   \n",
      " nspose)                                                         \n",
      "                                                                 \n",
      " batch_normalization_1 (Batc  (None, 8, 8, 512)        2048      \n",
      " hNormalization)                                                 \n",
      "                                                                 \n",
      " conv2d_transpose_1 (Conv2DT  (None, 16, 16, 256)      2097408   \n",
      " ranspose)                                                       \n",
      "                                                                 \n",
      " batch_normalization_2 (Batc  (None, 16, 16, 256)      1024      \n",
      " hNormalization)                                                 \n",
      "                                                                 \n",
      " conv2d_transpose_2 (Conv2DT  (None, 32, 32, 128)      524416    \n",
      " ranspose)                                                       \n",
      "                                                                 \n",
      " batch_normalization_3 (Batc  (None, 32, 32, 128)      512       \n",
      " hNormalization)                                                 \n",
      "                                                                 \n",
      " conv2d_transpose_3 (Conv2DT  (None, 64, 64, 1)        2049      \n",
      " ranspose)                                                       \n",
      "                                                                 \n",
      "=================================================================\n",
      "Total params: 7,651,713\n",
      "Trainable params: 7,648,897\n",
      "Non-trainable params: 2,816\n",
      "_________________________________________________________________\n"
     ]
    }
   ],
   "source": [
    "generator.summary()"
   ]
  },
  {
   "cell_type": "code",
   "execution_count": 12,
   "id": "efa3e01c-a173-4cc7-ba23-0f294ecaf2f2",
   "metadata": {},
   "outputs": [
    {
     "name": "stdout",
     "output_type": "stream",
     "text": [
      "Model: \"sequential_1\"\n",
      "_________________________________________________________________\n",
      " Layer (type)                Output Shape              Param #   \n",
      "=================================================================\n",
      " conv2d (Conv2D)             (None, 32, 32, 64)        1088      \n",
      "                                                                 \n",
      " batch_normalization_4 (Batc  (None, 32, 32, 64)       256       \n",
      " hNormalization)                                                 \n",
      "                                                                 \n",
      " conv2d_1 (Conv2D)           (None, 16, 16, 128)       131200    \n",
      "                                                                 \n",
      " batch_normalization_5 (Batc  (None, 16, 16, 128)      512       \n",
      " hNormalization)                                                 \n",
      "                                                                 \n",
      " conv2d_2 (Conv2D)           (None, 8, 8, 256)         524544    \n",
      "                                                                 \n",
      " batch_normalization_6 (Batc  (None, 8, 8, 256)        1024      \n",
      " hNormalization)                                                 \n",
      "                                                                 \n",
      " conv2d_3 (Conv2D)           (None, 4, 4, 512)         2097664   \n",
      "                                                                 \n",
      " batch_normalization_7 (Batc  (None, 4, 4, 512)        2048      \n",
      " hNormalization)                                                 \n",
      "                                                                 \n",
      " flatten (Flatten)           (None, 8192)              0         \n",
      "                                                                 \n",
      " dense_1 (Dense)             (None, 1)                 8193      \n",
      "                                                                 \n",
      "=================================================================\n",
      "Total params: 2,766,529\n",
      "Trainable params: 2,764,609\n",
      "Non-trainable params: 1,920\n",
      "_________________________________________________________________\n"
     ]
    }
   ],
   "source": [
    "discriminator.summary()"
   ]
  },
  {
   "cell_type": "code",
   "execution_count": 8,
   "id": "de5eeed0-ab02-4477-9d88-b8dac2045e1a",
   "metadata": {},
   "outputs": [],
   "source": [
    "# This method returns a helper function to compute cross entropy loss\n",
    "cross_entropy = tf.keras.losses.BinaryCrossentropy(from_logits=True)\n",
    "\n",
    "def discriminator_loss(real_output, fake_output):\n",
    "    real_loss = cross_entropy(tf.ones_like(real_output), real_output)\n",
    "    fake_loss = cross_entropy(tf.zeros_like(fake_output), fake_output)\n",
    "    total_loss = real_loss + fake_loss\n",
    "    return total_loss\n",
    "\n",
    "\n",
    "def generator_loss(fake_output):\n",
    "    return cross_entropy(tf.ones_like(fake_output), fake_output)\n",
    "\n",
    "generator_optimizer = tf.keras.optimizers.Adam(learning_rate=0.002, beta_1=0.5, beta_2=0.999)\n",
    "discriminator_optimizer = tf.keras.optimizers.Adam(learning_rate=0.002, beta_1=0.5, beta_2=0.999)"
   ]
  },
  {
   "cell_type": "code",
   "execution_count": 36,
   "id": "f8b92e88-881e-4fa3-af89-28effa3b4795",
   "metadata": {},
   "outputs": [],
   "source": [
    "checkpoint_dir = './training_checkpoints'\n",
    "checkpoint_prefix = os.path.join(checkpoint_dir, \"ckpt\")\n",
    "checkpoint = tf.train.Checkpoint(generator_optimizer=generator_optimizer,\n",
    "                                 discriminator_optimizer=discriminator_optimizer,\n",
    "                                 generator=generator,\n",
    "                                 discriminator=discriminator)"
   ]
  },
  {
   "cell_type": "code",
   "execution_count": 9,
   "id": "40bd0f4f-3a0a-4cc0-a3b9-ac1615fd1544",
   "metadata": {},
   "outputs": [],
   "source": [
    "EPOCHS = 50\n",
    "num_examples_to_generate = 16\n",
    "\n",
    "seed = tf.random.normal([num_examples_to_generate, codings_size])"
   ]
  },
  {
   "cell_type": "code",
   "execution_count": 10,
   "id": "8492b4f9-71bd-4e00-9ca6-33add0f9b7f2",
   "metadata": {},
   "outputs": [],
   "source": [
    "# Notice the use of `tf.function`\n",
    "# This annotation causes the function to be \"compiled\".\n",
    "@tf.function\n",
    "def train_step(images):\n",
    "    noise = tf.random.normal([BATCH_SIZE, codings_size])\n",
    "\n",
    "    with tf.GradientTape() as gen_tape, tf.GradientTape() as disc_tape:\n",
    "      generated_images = generator(noise, training=True)\n",
    "\n",
    "      real_output = discriminator(images, training=True)\n",
    "      fake_output = discriminator(generated_images, training=True)\n",
    "\n",
    "      gen_loss = generator_loss(fake_output)\n",
    "      disc_loss = discriminator_loss(real_output, fake_output)\n",
    "\n",
    "    gradients_of_generator = gen_tape.gradient(gen_loss, generator.trainable_variables)\n",
    "    gradients_of_discriminator = disc_tape.gradient(disc_loss, discriminator.trainable_variables)\n",
    "\n",
    "    generator_optimizer.apply_gradients(zip(gradients_of_generator, generator.trainable_variables))\n",
    "    discriminator_optimizer.apply_gradients(zip(gradients_of_discriminator, discriminator.trainable_variables))"
   ]
  },
  {
   "cell_type": "code",
   "execution_count": 11,
   "id": "2566e002-c17d-48fc-96ea-9c2642f0c0a6",
   "metadata": {},
   "outputs": [],
   "source": [
    "def train(dataset, epochs):\n",
    "  for epoch in range(epochs):\n",
    "    start = time.time()\n",
    "\n",
    "    for image_batch in dataset:\n",
    "      train_step(image_batch)\n",
    "\n",
    "    # Produce images for the GIF as you go\n",
    "    display.clear_output(wait=True)\n",
    "    generate_images(generator, epoch + 1, seed)\n",
    "\n",
    "    # Save the model every 15 epochs\n",
    "    if (epoch + 1) % 15 == 0:\n",
    "      checkpoint.save(file_prefix = checkpoint_prefix)\n",
    "\n",
    "    print ('Time for epoch {} is {} sec'.format(epoch + 1, time.time()-start))\n",
    "\n",
    "  # Generate after the final epoch\n",
    "  display.clear_output(wait=True)\n",
    "  generate_images(generator,epochs,seed)"
   ]
  },
  {
   "cell_type": "code",
   "execution_count": 12,
   "id": "af4e41db-cb79-43c0-9582-21434f00bbd6",
   "metadata": {},
   "outputs": [],
   "source": [
    "def generate_images(model, epoch, test_input):\n",
    "  # Notice `training` is set to False.\n",
    "  # This is so all layers run in inference mode (batchnorm).\n",
    "  predictions = model(test_input, training=False)\n",
    "\n",
    "  fig = plt.figure(figsize=(4, 4))\n",
    "\n",
    "  for i in range(predictions.shape[0]):\n",
    "      plt.subplot(4, 4, i+1)\n",
    "      plt.imshow(predictions[i, :, :, 0] * 127.5 + 127.5, cmap='gray')\n",
    "      plt.axis('off')\n",
    "  \n",
    "  plt.show()"
   ]
  },
  {
   "cell_type": "code",
   "execution_count": null,
   "id": "bff731be-3502-4cb8-84af-7e61bd43d35b",
   "metadata": {},
   "outputs": [],
   "source": [
    "%%time\n",
    "time.sleep(5)\n",
    "train(images, 2)"
   ]
  },
  {
   "cell_type": "markdown",
   "id": "6e3a1ab0-e585-49bd-94ec-52eabc2a338e",
   "metadata": {},
   "source": [
    "# DCGAN2"
   ]
  },
  {
   "cell_type": "code",
   "execution_count": 2,
   "id": "af27f3b7-e46f-4ead-b6a3-630f50e154c0",
   "metadata": {},
   "outputs": [
    {
     "name": "stdout",
     "output_type": "stream",
     "text": [
      "CPU times: user 34 s, sys: 3.7 s, total: 37.7 s\n",
      "Wall time: 55.4 s\n"
     ]
    }
   ],
   "source": [
    "%%time\n",
    "# # To get the images and labels from file\n",
    "with h5py.File('../Galaxy10_DECals.h5', 'r') as F:\n",
    "    images = np.array(F['images'])[:5000]\n",
    "    # labels = np.array(F['ans'])\n",
    "\n",
    "# To convert the labels to categorical 10 classes\n",
    "# labels = utils.to_categorical(labels, 10)\n",
    "\n",
    "# To convert to desirable type\n",
    "# labels = labels.astype(np.uint8)\n",
    "images = images.astype(np.float32)\n",
    "labels_names = [\"Disturbed Galaxies\", \"Merging Galaxies\", \"Round Smooth Galaxies\", \"In-between Round Smooth Galaxies\", \"Cigar Shaped Smooth Galaxies\",\n",
    "            \"Barred Spiral Galaxies\", \"Unbarred Tight Spiral Galaxies\", \"Unbarred Loose Spiral Galaxies\", \"Edge-on Galaxies without Bulge\", \"Edge-on Galaxies with Bulge\"]"
   ]
  },
  {
   "cell_type": "code",
   "execution_count": 3,
   "id": "0706c857-0187-4918-97fc-a3928ae11e02",
   "metadata": {},
   "outputs": [
    {
     "data": {
      "text/plain": [
       "(5000, 256, 256, 3)"
      ]
     },
     "execution_count": 3,
     "metadata": {},
     "output_type": "execute_result"
    }
   ],
   "source": [
    "images.shape"
   ]
  },
  {
   "cell_type": "code",
   "execution_count": 4,
   "id": "4ccefff7-5fd8-43aa-99d6-7fbba1c6a35c",
   "metadata": {},
   "outputs": [
    {
     "name": "stdout",
     "output_type": "stream",
     "text": [
      "WARNING:tensorflow:AutoGraph could not transform <function resize_data at 0x7fc54b5ac1f0> and will run it as-is.\n",
      "Cause: Unable to locate the source code of <function resize_data at 0x7fc54b5ac1f0>. Note that functions defined in certain environments, like the interactive Python shell, do not expose their source code. If that is the case, you should define them in a .py source file. If you are certain the code is graph-compatible, wrap the call using @tf.autograph.experimental.do_not_convert. Original error: could not get source code\n",
      "To silence this warning, decorate the function with @tf.autograph.experimental.do_not_convert\n",
      "WARNING: AutoGraph could not transform <function resize_data at 0x7fc54b5ac1f0> and will run it as-is.\n",
      "Cause: Unable to locate the source code of <function resize_data at 0x7fc54b5ac1f0>. Note that functions defined in certain environments, like the interactive Python shell, do not expose their source code. If that is the case, you should define them in a .py source file. If you are certain the code is graph-compatible, wrap the call using @tf.autograph.experimental.do_not_convert. Original error: could not get source code\n",
      "To silence this warning, decorate the function with @tf.autograph.experimental.do_not_convert\n",
      "CPU times: user 4.83 s, sys: 2.37 s, total: 7.21 s\n",
      "Wall time: 8.36 s\n"
     ]
    }
   ],
   "source": [
    "%%time\n",
    "images = tf.data.Dataset.from_tensor_slices((images, labels))\n",
    "\n",
    "def resize_data(image):\n",
    "  SIZE = (64,64)\n",
    "  image = tf.image.resize(image, SIZE)\n",
    "  image = tf.image.rgb_to_grayscale(image)\n",
    "  image = tf.cast(image, dtype=tf.float32)\n",
    "  image = (image / 127.5) - 1.0\n",
    "  return image\n",
    "  \n",
    "\n",
    "images = images.map(resize_data)"
   ]
  },
  {
   "cell_type": "code",
   "execution_count": 7,
   "id": "094cbb2e-1c1c-4a34-9cd3-cd644be2e196",
   "metadata": {},
   "outputs": [],
   "source": [
    "BUFFER_SIZE = 1000\n",
    "BATCH_SIZE = 32\n",
    "images = images.shuffle(BUFFER_SIZE).batch(BATCH_SIZE, drop_remainder=True).prefetch(1)"
   ]
  },
  {
   "cell_type": "code",
   "execution_count": 8,
   "id": "89f1c491-63ce-45c8-b96f-bb1681b72552",
   "metadata": {},
   "outputs": [
    {
     "data": {
      "image/png": "[encoded data removed]",
      "text/plain": [
       "<Figure size 432x288 with 1 Axes>"
      ]
     },
     "metadata": {
      "needs_background": "light"
     },
     "output_type": "display_data"
    }
   ],
   "source": [
    "for image in images.take(1):  # only take first element of dataset\n",
    "    plt.imshow(image[1].numpy(), cmap=\"gray\")"
   ]
  },
  {
   "cell_type": "code",
   "execution_count": 8,
   "id": "9d38015b-3965-491a-9887-9965c798d146",
   "metadata": {},
   "outputs": [],
   "source": [
    "codings_size = 100\n",
    "\n",
    "generator = Sequential([\n",
    "    Dense(8 * 8 * 512, input_shape=[codings_size,]),\n",
    "    Reshape([8, 8, 512]),\n",
    "    BatchNormalization(),\n",
    "    Conv2DTranspose(filters=256, kernel_size=4, strides=2, padding=\"same\", activation=LeakyReLU(0.2)),\n",
    "    BatchNormalization(),\n",
    "    Conv2DTranspose(filters=128, kernel_size=4, strides=2, padding=\"same\", activation=LeakyReLU(0.2)),\n",
    "    BatchNormalization(),\n",
    "    Conv2DTranspose(filters=1, kernel_size=4, strides=2, padding=\"same\", activation=\"tanh\"),\n",
    "])\n",
    "\n",
    "discriminator = Sequential([\n",
    "    Conv2D(filters=64, kernel_size=4, strides=2, padding=\"same\", activation=LeakyReLU(0.2), input_shape=[64, 64, 1]),\n",
    "    BatchNormalization(),\n",
    "    Conv2D(filters=128, kernel_size=4, strides=2, padding=\"same\", activation=LeakyReLU(0.2)),\n",
    "    BatchNormalization(),\n",
    "    Conv2D(filters=256, kernel_size=4, strides=2, padding=\"same\", activation=LeakyReLU(0.2)),\n",
    "    BatchNormalization(),\n",
    "    Conv2D(filters=512, kernel_size=4, strides=2, padding=\"same\", activation=LeakyReLU(0.2)),\n",
    "    BatchNormalization(),\n",
    "    Flatten(),\n",
    "    Dense(1, activation=\"sigmoid\")\n",
    "])\n",
    "\n"
   ]
  },
  {
   "cell_type": "code",
   "execution_count": 10,
   "id": "ae1174ae-793a-4bc2-8e3b-8a85e6976df2",
   "metadata": {},
   "outputs": [
    {
     "name": "stdout",
     "output_type": "stream",
     "text": [
      "Model: \"sequential_2\"\n",
      "_________________________________________________________________\n",
      " Layer (type)                Output Shape              Param #   \n",
      "=================================================================\n",
      " sequential (Sequential)     (None, 64, 64, 1)         7651713   \n",
      "                                                                 \n",
      " sequential_1 (Sequential)   (None, 1)                 2766529   \n",
      "                                                                 \n",
      "=================================================================\n",
      "Total params: 10,418,242\n",
      "Trainable params: 10,413,506\n",
      "Non-trainable params: 4,736\n",
      "_________________________________________________________________\n"
     ]
    }
   ],
   "source": [
    "gan = Sequential([generator, discriminator])\n",
    "gan.summary()"
   ]
  },
  {
   "cell_type": "code",
   "execution_count": 11,
   "id": "782c3890-7f2a-4589-9352-eea111fc0139",
   "metadata": {},
   "outputs": [],
   "source": [
    "def train_gan(gan, dataset, batch_size, codings_size, n_epochs=30):\n",
    "  generator, discriminator = gan.layers\n",
    "  for epoch in range(n_epochs):\n",
    "      start = time.time()\n",
    "      print(\"Epoch {}/{}\".format(epoch + 1, n_epochs))              # not shown in the book\n",
    "      for X_batch in dataset:\n",
    "          # phase 1 - training the discriminator\n",
    "          noise = tf.random.normal(shape=[batch_size, codings_size])\n",
    "          generated_images = generator(noise)\n",
    "          X_batch = tf.cast(X_batch, tf.float32)\n",
    "          X_fake_and_real = tf.concat([generated_images, X_batch], axis=0)\n",
    "          y1 = tf.constant([[0.]] * batch_size + [[1.]] * batch_size)\n",
    "          discriminator.trainable = True\n",
    "          discriminator.train_on_batch(X_fake_and_real, y1)\n",
    "          # phase 2 - training the generator\n",
    "          noise = tf.random.normal(shape=[batch_size, codings_size])\n",
    "          y2 = tf.constant([[1.]] * batch_size)\n",
    "          discriminator.trainable = False\n",
    "          gan.train_on_batch(noise, y2)\n",
    "      print ('Time for epoch {} is {} sec'.format(epoch + 1, time.time()-start)) "
   ]
  },
  {
   "cell_type": "code",
   "execution_count": 12,
   "id": "20e1e9f0-514e-4fca-bc95-6f64220a9eea",
   "metadata": {},
   "outputs": [],
   "source": [
    "discriminator.compile(loss=\"binary_crossentropy\", optimizer=\"rmsprop\")\n",
    "discriminator.trainable = False\n",
    "gan.compile(loss=\"binary_crossentropy\", optimizer=\"rmsprop\")"
   ]
  },
  {
   "cell_type": "code",
   "execution_count": 15,
   "id": "b23be3a9-149c-44ae-a6e3-34927d8831d2",
   "metadata": {},
   "outputs": [
    {
     "name": "stdout",
     "output_type": "stream",
     "text": [
      "Epoch 1/50\n",
      "Time for epoch 1 is 44.21453619003296 sec\n",
      "Epoch 2/50\n",
      "Time for epoch 2 is 43.90914344787598 sec\n",
      "Epoch 3/50\n",
      "Time for epoch 3 is 44.462414503097534 sec\n",
      "Epoch 4/50\n",
      "Time for epoch 4 is 43.66151189804077 sec\n",
      "Epoch 5/50\n",
      "Time for epoch 5 is 43.94576096534729 sec\n",
      "Epoch 6/50\n",
      "Time for epoch 6 is 44.262691259384155 sec\n",
      "Epoch 7/50\n",
      "Time for epoch 7 is 44.056153297424316 sec\n",
      "Epoch 8/50\n",
      "Time for epoch 8 is 43.968929052352905 sec\n",
      "Epoch 9/50\n",
      "Time for epoch 9 is 44.122886180877686 sec\n",
      "Epoch 10/50\n",
      "Time for epoch 10 is 43.84881114959717 sec\n",
      "Epoch 11/50\n",
      "Time for epoch 11 is 44.19888091087341 sec\n",
      "Epoch 12/50\n",
      "Time for epoch 12 is 44.48023271560669 sec\n",
      "Epoch 13/50\n",
      "Time for epoch 13 is 43.934038400650024 sec\n",
      "Epoch 14/50\n",
      "Time for epoch 14 is 44.77587389945984 sec\n",
      "Epoch 15/50\n",
      "Time for epoch 15 is 44.01865530014038 sec\n",
      "Epoch 16/50\n",
      "Time for epoch 16 is 43.7162823677063 sec\n",
      "Epoch 17/50\n",
      "Time for epoch 17 is 43.92704367637634 sec\n",
      "Epoch 18/50\n",
      "Time for epoch 18 is 44.74990439414978 sec\n",
      "Epoch 19/50\n",
      "Time for epoch 19 is 43.8050799369812 sec\n",
      "Epoch 20/50\n",
      "Time for epoch 20 is 43.57871460914612 sec\n",
      "Epoch 21/50\n",
      "Time for epoch 21 is 43.858171701431274 sec\n",
      "Epoch 22/50\n",
      "Time for epoch 22 is 43.6636016368866 sec\n",
      "Epoch 23/50\n",
      "Time for epoch 23 is 43.86210250854492 sec\n",
      "Epoch 24/50\n",
      "Time for epoch 24 is 43.63404178619385 sec\n",
      "Epoch 25/50\n",
      "Time for epoch 25 is 43.44371151924133 sec\n",
      "Epoch 26/50\n",
      "Time for epoch 26 is 43.82223200798035 sec\n",
      "Epoch 27/50\n",
      "Time for epoch 27 is 43.577324628829956 sec\n",
      "Epoch 28/50\n",
      "Time for epoch 28 is 43.47394251823425 sec\n",
      "Epoch 29/50\n",
      "Time for epoch 29 is 43.48230719566345 sec\n",
      "Epoch 30/50\n",
      "Time for epoch 30 is 43.80967354774475 sec\n",
      "Epoch 31/50\n",
      "Time for epoch 31 is 43.459001541137695 sec\n",
      "Epoch 32/50\n",
      "Time for epoch 32 is 43.87371110916138 sec\n",
      "Epoch 33/50\n",
      "Time for epoch 33 is 43.39453172683716 sec\n",
      "Epoch 34/50\n",
      "Time for epoch 34 is 43.601511001586914 sec\n",
      "Epoch 35/50\n",
      "Time for epoch 35 is 43.856757402420044 sec\n",
      "Epoch 36/50\n",
      "Time for epoch 36 is 44.69168400764465 sec\n",
      "Epoch 37/50\n",
      "Time for epoch 37 is 44.05165672302246 sec\n",
      "Epoch 38/50\n",
      "Time for epoch 38 is 44.30638408660889 sec\n",
      "Epoch 39/50\n",
      "Time for epoch 39 is 43.84433436393738 sec\n",
      "Epoch 40/50\n",
      "Time for epoch 40 is 44.44208526611328 sec\n",
      "Epoch 41/50\n",
      "Time for epoch 41 is 44.25070309638977 sec\n",
      "Epoch 42/50\n",
      "Time for epoch 42 is 44.7749707698822 sec\n",
      "Epoch 43/50\n",
      "Time for epoch 43 is 43.988534688949585 sec\n",
      "Epoch 44/50\n",
      "Time for epoch 44 is 44.329325914382935 sec\n",
      "Epoch 45/50\n",
      "Time for epoch 45 is 44.00494074821472 sec\n",
      "Epoch 46/50\n",
      "Time for epoch 46 is 44.4476318359375 sec\n",
      "Epoch 47/50\n",
      "Time for epoch 47 is 43.88327956199646 sec\n",
      "Epoch 48/50\n",
      "Time for epoch 48 is 44.36731004714966 sec\n",
      "Epoch 49/50\n",
      "Time for epoch 49 is 44.22208523750305 sec\n",
      "Epoch 50/50\n",
      "Time for epoch 50 is 44.370274782180786 sec\n",
      "CPU times: user 29min 43s, sys: 3min 32s, total: 33min 16s\n",
      "Wall time: 36min 40s\n"
     ]
    }
   ],
   "source": [
    "%%time\n",
    "train_gan(gan, images, BATCH_SIZE, codings_size, n_epochs=50)"
   ]
  },
  {
   "cell_type": "code",
   "execution_count": 14,
   "id": "1aa08a66-0455-4421-9a72-7752b3b57391",
   "metadata": {},
   "outputs": [
    {
     "data": {
      "image/png": "[encoded data removed]",
      "text/plain": [
       "<Figure size 216x216 with 1 Axes>"
      ]
     },
     "metadata": {
      "needs_background": "light"
     },
     "output_type": "display_data"
    }
   ],
   "source": [
    "plt.figure(figsize=(3,3))\n",
    "noise = tf.random.normal(shape=[BATCH_SIZE, 100])\n",
    "img = np.array(generator(noise))\n",
    "plt.imshow(img[0].reshape(64,64), cmap=\"gray\")\n",
    "plt.show()"
   ]
  },
  {
   "cell_type": "code",
   "execution_count": 25,
   "id": "42d8d2b9-d15e-4961-9f6d-e1cddeeb3b72",
   "metadata": {},
   "outputs": [
    {
     "data": {
      "image/png": "[encoded data removed]",
      "text/plain": [
       "<Figure size 216x216 with 1 Axes>"
      ]
     },
     "metadata": {
      "needs_background": "light"
     },
     "output_type": "display_data"
    }
   ],
   "source": [
    "plt.figure(figsize=(3,3))\n",
    "noise = tf.random.normal(shape=[BATCH_SIZE, 100])\n",
    "img = np.array(generator(noise))\n",
    "plt.imshow(img[0].reshape(64,64), cmap=\"gray\")\n",
    "plt.show()"
   ]
  },
  {
   "cell_type": "code",
   "execution_count": 47,
   "id": "c2156d2d-7b7e-4c4d-ad04-517f2c7920c0",
   "metadata": {},
   "outputs": [
    {
     "data": {
      "image/png": "[encoded data removed]",
      "text/plain": [
       "<Figure size 216x216 with 1 Axes>"
      ]
     },
     "metadata": {
      "needs_background": "light"
     },
     "output_type": "display_data"
    }
   ],
   "source": [
    "plt.figure(figsize=(3,3))\n",
    "noise = tf.random.normal(shape=[BATCH_SIZE, 100])\n",
    "img = np.array(generator(noise))\n",
    "plt.imshow(img[0].reshape(64,64), cmap=\"gray\")\n",
    "plt.show()"
   ]
  },
  {
   "cell_type": "markdown",
   "id": "387a2d03-ead5-461e-8dbd-82fe5211de02",
   "metadata": {},
   "source": [
    "# cGAN"
   ]
  },
  {
   "cell_type": "code",
   "execution_count": null,
   "id": "467cb1e4-4cf6-491c-9147-657d64841f69",
   "metadata": {},
   "outputs": [],
   "source": [
    "%%time\n",
    "# # To get the images and labels from file\n",
    "with h5py.File('../Galaxy10_DECals.h5', 'r') as F:\n",
    "    images = np.array(F['images'])[7940:]\n",
    "    labels = np.array(F['ans'])[7940:]\n",
    "\n",
    "# To convert the labels to categorical 10 classes\n",
    "# labels = utils.to_categorical(labels, 10)\n",
    "\n",
    "# To convert to desirable type\n",
    "# labels = labels.astype(np.uint8)\n",
    "images = images.astype(np.float32)\n",
    "labels_names = [\"Disturbed Galaxies\", \"Merging Galaxies\", \"Round Smooth Galaxies\", \"In-between Round Smooth Galaxies\", \"Cigar Shaped Smooth Galaxies\",\n",
    "            \"Barred Spiral Galaxies\", \"Unbarred Tight Spiral Galaxies\", \"Unbarred Loose Spiral Galaxies\", \"Edge-on Galaxies without Bulge\", \"Edge-on Galaxies with Bulge\"]"
   ]
  },
  {
   "cell_type": "code",
   "execution_count": null,
   "id": "16067acc-898a-4a3f-bc10-2b946197d558",
   "metadata": {},
   "outputs": [],
   "source": [
    "for name, count in zip(labels_names, np.unique(labels[:], axis=0, return_counts=True)[1]):\n",
    "    print(f\"{name}: {count}\")"
   ]
  },
  {
   "cell_type": "code",
   "execution_count": null,
   "id": "2f4b40c0-129e-42ee-923c-d62032a525a0",
   "metadata": {},
   "outputs": [],
   "source": [
    "%%time\n",
    "images = tf.data.Dataset.from_tensor_slices(images)\n",
    "\n",
    "def resize_data(image):\n",
    "  SIZE = (64,64)\n",
    "  image = tf.image.resize(image, SIZE)\n",
    "  image = tf.image.rgb_to_grayscale(image)\n",
    "  image = tf.cast(image, dtype=tf.float32)\n",
    "  image = (image / 127.5) - 1.0\n",
    "  return image\n",
    "  \n",
    "\n",
    "images = images.map(resize_data)"
   ]
  },
  {
   "cell_type": "code",
   "execution_count": null,
   "id": "8e3b5a47-4c21-4934-a816-7b77d759eeb9",
   "metadata": {},
   "outputs": [],
   "source": [
    "BUFFER_SIZE = 1000\n",
    "BATCH_SIZE = 32\n",
    "images = images.shuffle(BUFFER_SIZE).batch(BATCH_SIZE, drop_remainder=True).prefetch(1)"
   ]
  },
  {
   "cell_type": "code",
   "execution_count": null,
   "id": "ad079535-b486-49d2-ac42-22e9a5855e7c",
   "metadata": {},
   "outputs": [],
   "source": [
    "for image in images.take(1):  # only take first element of dataset\n",
    "    plt.imshow(image[1].numpy(), cmap=\"gray\")"
   ]
  },
  {
   "cell_type": "code",
   "execution_count": null,
   "id": "fa9bff1c-9914-4256-a673-511c98055f95",
   "metadata": {},
   "outputs": [],
   "source": []
  },
  {
   "cell_type": "code",
   "execution_count": 9,
   "id": "2fa101a3-2cc8-45ca-ae05-801b3c2aefe4",
   "metadata": {},
   "outputs": [],
   "source": [
    "def define_discriminator(in_shape=(64,64,1), n_classes=5):\n",
    " # label input\n",
    " in_label = Input(shape=(1,))\n",
    " # embedding for categorical input\n",
    " li = Embedding(n_classes, 50)(in_label)\n",
    " # scale up to image dimensions with linear activation\n",
    " n_nodes = 32 * 32\n",
    " li = Dense(n_nodes)(li)\n",
    " # reshape to additional channel\n",
    " li = Reshape((32, 32, 1))(li)\n",
    "    \n",
    " # image input\n",
    " in_image = Input(shape=in_shape)\n",
    " in_image = Conv2D(filters=64, kernel_size=4, strides=2, padding=\"same\", activation=LeakyReLU(0.2))(in_image)\n",
    " in_image = BatchNormalization()(in_image)\n",
    "    \n",
    " # concat label as a channel\n",
    " merge = Concatenate()([in_image, li])\n",
    "\n",
    " fe = Conv2D(filters=128, kernel_size=4, strides=2, padding=\"same\", activation=LeakyReLU(0.2))(merge)\n",
    " fe = BatchNormalization()(fe)\n",
    " fe = Conv2D(filters=256, kernel_size=4, strides=2, padding=\"same\", activation=LeakyReLU(0.2))(fe)\n",
    " fe = BatchNormalization()(fe)\n",
    " fe = Conv2D(filters=512, kernel_size=4, strides=2, padding=\"same\", activation=LeakyReLU(0.2))(fe)\n",
    " fe = BatchNormalization()(fe)\n",
    " fe = Flatten()(fe)\n",
    " out_layer = Dense(1, activation=\"sigmoid\")(fe)\n",
    "\n",
    "    \n",
    " # define model\n",
    " model = Model([in_image, in_label], out_layer)\n",
    " model.compile(loss=\"binary_crossentropy\", optimizer=\"rmsprop\")\n",
    " model.trainable = False\n",
    " return model"
   ]
  },
  {
   "cell_type": "code",
   "execution_count": 15,
   "id": "9d218189-103c-4c82-bb16-aa71b61ee675",
   "metadata": {},
   "outputs": [],
   "source": [
    "def define_generator(latent_dim=100, n_classes=5):\n",
    " # label input\n",
    " in_label = Input(shape=(1,))\n",
    " # embedding for categorical input\n",
    " li = Embedding(n_classes, 50)(in_label)\n",
    " # linear multiplication\n",
    " n_nodes = 4 * 4 * 128\n",
    " li = Dense(n_nodes)(li)\n",
    " # reshape to additional channel\n",
    " li = Reshape((4, 4, 128))(li)\n",
    " # image generator input\n",
    "    \n",
    " in_lat = Input(shape=(latent_dim,))\n",
    " gen = Dense(4 * 4 * 512, activation=LeakyReLU(0.2))(in_lat)\n",
    " gen = Reshape([4, 4, 512])(gen)\n",
    "\n",
    " merge = Concatenate()([gen, li])\n",
    "\n",
    " gen = Conv2DTranspose(filters=512, kernel_size=4, strides=2, padding=\"same\", activation=LeakyReLU(0.2))(gen)\n",
    " gen = BatchNormalization()(gen)\n",
    " gen = Conv2DTranspose(filters=256, kernel_size=4, strides=2, padding=\"same\", activation=LeakyReLU(0.2))(gen)\n",
    " gen = BatchNormalization()(gen)\n",
    " gen = Conv2DTranspose(filters=128, kernel_size=4, strides=2, padding=\"same\", activation=LeakyReLU(0.2))(gen)\n",
    " gen = BatchNormalization()(gen)\n",
    " out_layer = Conv2DTranspose(filters=1, kernel_size=4, strides=2, padding=\"same\", activation=\"tanh\")(gen)\n",
    "\n",
    " model = Model([in_lat, in_label], out_layer)\n",
    " return model"
   ]
  },
  {
   "cell_type": "code",
   "execution_count": 17,
   "id": "312b6b5a-d496-479c-8d3d-9ee0f7edfa02",
   "metadata": {},
   "outputs": [],
   "source": [
    "def define_gan(g_model, d_model):\n",
    " d_model.trainable = False\n",
    " gen_noise, gen_label = g_model.input\n",
    " gen_output = g_model.output\n",
    " gan_output = d_model([gen_output, gen_label])\n",
    " model = Model([gen_noise, gen_label], gan_output)\n",
    " model.compile(loss=\"binary_crossentropy\", optimizer=\"rmsprop\")\n",
    " return model"
   ]
  },
  {
   "cell_type": "code",
   "execution_count": null,
   "id": "56acfe4b-287c-42e3-870c-9b359eef0916",
   "metadata": {},
   "outputs": [],
   "source": [
    "def train_gan(gan, dataset, batch_size, codings_size, n_epochs=30):\n",
    "  generator, discriminator = gan.layers\n",
    "  for epoch in range(n_epochs):\n",
    "      start = time.time()\n",
    "      print(\"Epoch {}/{}\".format(epoch + 1, n_epochs))              # not shown in the book\n",
    "      for X_batch in dataset:\n",
    "          # phase 1 - training the discriminator\n",
    "          noise = tf.random.normal(shape=[batch_size, codings_size])\n",
    "          generated_images = generator(noise)\n",
    "          X_batch = tf.cast(X_batch, tf.float32)\n",
    "          X_fake_and_real = tf.concat([generated_images, X_batch], axis=0)\n",
    "          y1 = tf.constant([[0.]] * batch_size + [[1.]] * batch_size)\n",
    "          discriminator.trainable = True\n",
    "          discriminator.train_on_batch(X_fake_and_real, y1)\n",
    "          # phase 2 - training the generator\n",
    "          noise = tf.random.normal(shape=[batch_size, codings_size])\n",
    "          y2 = tf.constant([[1.]] * batch_size)\n",
    "          discriminator.trainable = False\n",
    "          gan.train_on_batch(noise, y2)\n",
    "      print ('Time for epoch {} is {} sec'.format(epoch + 1, time.time()-start)) "
   ]
  },
  {
   "cell_type": "code",
   "execution_count": 49,
   "id": "1b622606-a852-4d96-84a1-be8b7f1a196c",
   "metadata": {},
   "outputs": [
    {
     "ename": "ValueError",
     "evalue": "Input 0 of layer \"model_14\" is incompatible with the layer: expected shape=(None, 32, 32, 64), found shape=(1, 64, 64, 1)",
     "output_type": "error",
     "traceback": [
      "\u001b[0;31m---------------------------------------------------------------------------\u001b[0m",
      "\u001b[0;31mValueError\u001b[0m                                Traceback (most recent call last)",
      "Cell \u001b[0;32mIn[49], line 3\u001b[0m\n\u001b[1;32m      1\u001b[0m temp \u001b[38;5;241m=\u001b[39m define_generator()\n\u001b[1;32m      2\u001b[0m temp \u001b[38;5;241m=\u001b[39m define_discriminator()\n\u001b[0;32m----> 3\u001b[0m \u001b[43mtemp\u001b[49m\u001b[43m(\u001b[49m\u001b[43m[\u001b[49m\u001b[43mx\u001b[49m\u001b[43m[\u001b[49m\u001b[38;5;241;43m0\u001b[39;49m\u001b[43m]\u001b[49m\u001b[43m,\u001b[49m\u001b[43m \u001b[49m\u001b[38;5;241;43m5\u001b[39;49m\u001b[43m]\u001b[49m\u001b[43m,\u001b[49m\u001b[43m \u001b[49m\u001b[38;5;241;43m0\u001b[39;49m\u001b[43m)\u001b[49m\n",
      "File \u001b[0;32m~/miniconda3/envs/tf/lib/python3.9/site-packages/keras/utils/traceback_utils.py:70\u001b[0m, in \u001b[0;36mfilter_traceback.<locals>.error_handler\u001b[0;34m(*args, **kwargs)\u001b[0m\n\u001b[1;32m     67\u001b[0m     filtered_tb \u001b[38;5;241m=\u001b[39m _process_traceback_frames(e\u001b[38;5;241m.\u001b[39m__traceback__)\n\u001b[1;32m     68\u001b[0m     \u001b[38;5;66;03m# To get the full stack trace, call:\u001b[39;00m\n\u001b[1;32m     69\u001b[0m     \u001b[38;5;66;03m# `tf.debugging.disable_traceback_filtering()`\u001b[39;00m\n\u001b[0;32m---> 70\u001b[0m     \u001b[38;5;28;01mraise\u001b[39;00m e\u001b[38;5;241m.\u001b[39mwith_traceback(filtered_tb) \u001b[38;5;28;01mfrom\u001b[39;00m \u001b[38;5;28;01mNone\u001b[39;00m\n\u001b[1;32m     71\u001b[0m \u001b[38;5;28;01mfinally\u001b[39;00m:\n\u001b[1;32m     72\u001b[0m     \u001b[38;5;28;01mdel\u001b[39;00m filtered_tb\n",
      "File \u001b[0;32m~/miniconda3/envs/tf/lib/python3.9/site-packages/keras/engine/input_spec.py:298\u001b[0m, in \u001b[0;36massert_input_compatibility\u001b[0;34m(input_spec, inputs, layer_name)\u001b[0m\n\u001b[1;32m    296\u001b[0m \u001b[38;5;28;01mif\u001b[39;00m spec_dim \u001b[38;5;129;01mis\u001b[39;00m \u001b[38;5;129;01mnot\u001b[39;00m \u001b[38;5;28;01mNone\u001b[39;00m \u001b[38;5;129;01mand\u001b[39;00m dim \u001b[38;5;129;01mis\u001b[39;00m \u001b[38;5;129;01mnot\u001b[39;00m \u001b[38;5;28;01mNone\u001b[39;00m:\n\u001b[1;32m    297\u001b[0m     \u001b[38;5;28;01mif\u001b[39;00m spec_dim \u001b[38;5;241m!=\u001b[39m dim:\n\u001b[0;32m--> 298\u001b[0m         \u001b[38;5;28;01mraise\u001b[39;00m \u001b[38;5;167;01mValueError\u001b[39;00m(\n\u001b[1;32m    299\u001b[0m             \u001b[38;5;124mf\u001b[39m\u001b[38;5;124m'\u001b[39m\u001b[38;5;124mInput \u001b[39m\u001b[38;5;132;01m{\u001b[39;00minput_index\u001b[38;5;132;01m}\u001b[39;00m\u001b[38;5;124m of layer \u001b[39m\u001b[38;5;124m\"\u001b[39m\u001b[38;5;132;01m{\u001b[39;00mlayer_name\u001b[38;5;132;01m}\u001b[39;00m\u001b[38;5;124m\"\u001b[39m\u001b[38;5;124m is \u001b[39m\u001b[38;5;124m'\u001b[39m\n\u001b[1;32m    300\u001b[0m             \u001b[38;5;124m\"\u001b[39m\u001b[38;5;124mincompatible with the layer: \u001b[39m\u001b[38;5;124m\"\u001b[39m\n\u001b[1;32m    301\u001b[0m             \u001b[38;5;124mf\u001b[39m\u001b[38;5;124m\"\u001b[39m\u001b[38;5;124mexpected shape=\u001b[39m\u001b[38;5;132;01m{\u001b[39;00mspec\u001b[38;5;241m.\u001b[39mshape\u001b[38;5;132;01m}\u001b[39;00m\u001b[38;5;124m, \u001b[39m\u001b[38;5;124m\"\u001b[39m\n\u001b[1;32m    302\u001b[0m             \u001b[38;5;124mf\u001b[39m\u001b[38;5;124m\"\u001b[39m\u001b[38;5;124mfound shape=\u001b[39m\u001b[38;5;132;01m{\u001b[39;00mdisplay_shape(x\u001b[38;5;241m.\u001b[39mshape)\u001b[38;5;132;01m}\u001b[39;00m\u001b[38;5;124m\"\u001b[39m\n\u001b[1;32m    303\u001b[0m         )\n",
      "\u001b[0;31mValueError\u001b[0m: Input 0 of layer \"model_14\" is incompatible with the layer: expected shape=(None, 32, 32, 64), found shape=(1, 64, 64, 1)"
     ]
    }
   ],
   "source": [
    "def train(g_model, d_model, gan_model, dataset, latent_dim, n_epochs=100, n_batch=128):\n",
    " bat_per_epo = int(dataset[0].shape[0] / n_batch)\n",
    " half_batch = int(n_batch / 2)\n",
    " # manually enumerate epochs\n",
    " for i in range(n_epochs):\n",
    " # enumerate batches over the training set\n",
    " for j in range(bat_per_epo):\n",
    " # get randomly selected 'real' samples\n",
    " [X_real, labels_real], y_real = generate_real_samples(dataset, half_batch)\n",
    " # update discriminator model weights\n",
    " d_loss1, _ = d_model.train_on_batch([X_real, labels_real], y_real)\n",
    " # generate 'fake' examples\n",
    " [X_fake, labels], y_fake = generate_fake_samples(g_model, latent_dim, half_batch)\n",
    " # update discriminator model weights\n",
    " d_loss2, _ = d_model.train_on_batch([X_fake, labels], y_fake)\n",
    " # prepare points in latent space as input for the generator\n",
    " [z_input, labels_input] = generate_latent_points(latent_dim, n_batch)\n",
    " # create inverted labels for the fake samples\n",
    " y_gan = ones((n_batch, 1))\n",
    " # update the generator via the discriminator's error\n",
    " g_loss = gan_model.train_on_batch([z_input, labels_input], y_gan)\n",
    " # summarize loss on this batch\n",
    " print('>%d, %d/%d, d1=%.3f, d2=%.3f g=%.3f' %\n",
    " (i+1, j+1, bat_per_epo, d_loss1, d_loss2, g_loss))\n",
    " # save the generator model\n",
    " g_model.save('cgan_generator.h5')"
   ]
  },
  {
   "cell_type": "code",
   "execution_count": 37,
   "id": "a176a6ef-1c82-446c-a728-ab9b8e07903c",
   "metadata": {},
   "outputs": [],
   "source": [
    "def generate_latent_points(latent_dim, n_samples, n_classes=5):\n",
    " # generate points in the latent space\n",
    " noise = np.random.randn(latent_dim * n_samples)\n",
    " # reshape into a batch of inputs for the network\n",
    " noise = noise.reshape(n_samples, latent_dim)\n",
    " # generate labels\n",
    " labels = np.random.randint(0, n_classes, n_samples)\n",
    " return [noise, labels]\n",
    " \n",
    "# use the generator to generate n fake examples, with class labels\n",
    "def generate_fake_samples(generator, latent_dim, n_samples):\n",
    " # generate points in latent space\n",
    " noise, labels_input = generate_latent_points(latent_dim, n_samples)\n",
    " # predict outputs\n",
    " images = generator.predict([z_input, labels_input])\n",
    " # create class labels\n",
    " y = np.zeros((n_samples, 1))\n",
    " return [images, labels_input], y"
   ]
  },
  {
   "cell_type": "code",
   "execution_count": 50,
   "id": "2a99c4b1-75fc-4adf-b248-a2dd728ab0b6",
   "metadata": {},
   "outputs": [
    {
     "name": "stdout",
     "output_type": "stream",
     "text": [
      "Model: \"model_14\"\n",
      "__________________________________________________________________________________________________\n",
      " Layer (type)                   Output Shape         Param #     Connected to                     \n",
      "==================================================================================================\n",
      " input_36 (InputLayer)          [(None, 1)]          0           []                               \n",
      "                                                                                                  \n",
      " embedding_15 (Embedding)       (None, 1, 50)        250         ['input_36[0][0]']               \n",
      "                                                                                                  \n",
      " dense_29 (Dense)               (None, 1, 1024)      52224       ['embedding_15[1][0]']           \n",
      "                                                                                                  \n",
      " input_38 (InputLayer)          [(None, 32, 32, 64)  0           []                               \n",
      "                                ]                                                                 \n",
      "                                                                                                  \n",
      " reshape_25 (Reshape)           (None, 32, 32, 1)    0           ['dense_29[1][0]']               \n",
      "                                                                                                  \n",
      " concatenate_15 (Concatenate)   (None, 32, 32, 65)   0           ['input_38[0][0]',               \n",
      "                                                                  'reshape_25[1][0]']             \n",
      "                                                                                                  \n",
      " conv2d_19 (Conv2D)             (None, 16, 16, 128)  133248      ['concatenate_15[1][0]']         \n",
      "                                                                                                  \n",
      " batch_normalization_48 (BatchN  (None, 16, 16, 128)  512        ['conv2d_19[1][0]']              \n",
      " ormalization)                                                                                    \n",
      "                                                                                                  \n",
      " conv2d_20 (Conv2D)             (None, 8, 8, 256)    524544      ['batch_normalization_48[1][0]'] \n",
      "                                                                                                  \n",
      " batch_normalization_49 (BatchN  (None, 8, 8, 256)   1024        ['conv2d_20[1][0]']              \n",
      " ormalization)                                                                                    \n",
      "                                                                                                  \n",
      " conv2d_21 (Conv2D)             (None, 4, 4, 512)    2097664     ['batch_normalization_49[1][0]'] \n",
      "                                                                                                  \n",
      " batch_normalization_50 (BatchN  (None, 4, 4, 512)   2048        ['conv2d_21[1][0]']              \n",
      " ormalization)                                                                                    \n",
      "                                                                                                  \n",
      " flatten_4 (Flatten)            (None, 8192)         0           ['batch_normalization_50[1][0]'] \n",
      "                                                                                                  \n",
      " dense_30 (Dense)               (None, 1)            8193        ['flatten_4[1][0]']              \n",
      "                                                                                                  \n",
      "==================================================================================================\n",
      "Total params: 2,819,707\n",
      "Trainable params: 0\n",
      "Non-trainable params: 2,819,707\n",
      "__________________________________________________________________________________________________\n"
     ]
    }
   ],
   "source": [
    "temp.summary()"
   ]
  },
  {
   "cell_type": "code",
   "execution_count": 44,
   "id": "6363457a-312b-4037-b0b5-9b7eea8fbbad",
   "metadata": {},
   "outputs": [
    {
     "name": "stdout",
     "output_type": "stream",
     "text": [
      "1/1 [==============================] - 0s 34ms/step\n"
     ]
    },
    {
     "data": {
      "image/png": "[encoded data removed]",
      "text/plain": [
       "<Figure size 216x216 with 1 Axes>"
      ]
     },
     "metadata": {
      "needs_background": "light"
     },
     "output_type": "display_data"
    }
   ],
   "source": [
    "x,y= generate_fake_samples(temp, 100, 1)\n",
    "plt.figure(figsize=(3,3))\n",
    "img = x[0]\n",
    "plt.imshow(img.reshape(64,64), cmap=\"gray\")\n",
    "plt.show()"
   ]
  },
  {
   "cell_type": "code",
   "execution_count": 18,
   "id": "773f937c-b0dd-4441-b9a2-598da75d9425",
   "metadata": {},
   "outputs": [
    {
     "name": "stdout",
     "output_type": "stream",
     "text": [
      "                           _i9:  1.3 KiB\n",
      "                           _i2:  1.3 KiB\n",
      "                          _iii:  1.1 KiB\n",
      "                          _i15:  1.1 KiB\n",
      "                          _i11:  1.1 KiB\n",
      "                    Sequential:  1.0 KiB\n",
      "                         Model:  1.0 KiB\n",
      "                     MaxPool2D:  1.0 KiB\n",
      "                       Dropout:  1.0 KiB\n",
      "                          Adam:  1.0 KiB\n"
     ]
    }
   ],
   "source": [
    "import sys\n",
    "def sizeof_fmt(num, suffix='B'):\n",
    "    ''' by Fred Cirera,  https://stackoverflow.com/a/1094933/1870254, modified'''\n",
    "    for unit in ['','Ki','Mi','Gi','Ti','Pi','Ei','Zi']:\n",
    "        if abs(num) < 1024.0:\n",
    "            return \"%3.1f %s%s\" % (num, unit, suffix)\n",
    "        num /= 1024.0\n",
    "    return \"%.1f %s%s\" % (num, 'Yi', suffix)\n",
    "\n",
    "for name, size in sorted(((name, sys.getsizeof(value)) for name, value in list(\n",
    "                          locals().items())), key= lambda x: -x[1])[:10]:\n",
    "    print(\"{:>30}: {:>8}\".format(name, sizeof_fmt(size)))"
   ]
  },
  {
   "cell_type": "code",
   "execution_count": null,
   "id": "433d1590-e110-4009-95e6-8cdddccef848",
   "metadata": {},
   "outputs": [],
   "source": []
  }
 ],
 "metadata": {
  "kernelspec": {
   "display_name": "Python 3",
   "language": "python",
   "name": "python3"
  },
  "language_info": {
   "codemirror_mode": {
    "name": "ipython",
    "version": 3
   },
   "file_extension": ".py",
   "mimetype": "text/x-python",
   "name": "python",
   "nbconvert_exporter": "python",
   "pygments_lexer": "ipython3",
   "version": "3.9.18"
  }
 },
 "nbformat": 4,
 "nbformat_minor": 5
}
